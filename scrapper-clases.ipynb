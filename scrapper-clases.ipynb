{
 "cells": [
  {
   "cell_type": "markdown",
   "metadata": {
    "nteract": {
     "transient": {
      "deleting": false
     }
    }
   },
   "source": [
    "# Caso de uso: leer Facebook, obtener estadísticas y aplicar análisis de sentimiento"
   ]
  },
  {
   "cell_type": "code",
   "execution_count": 1,
   "metadata": {
    "gather": {
     "logged": 1664506037828
    },
    "jupyter": {
     "outputs_hidden": false,
     "source_hidden": false
    },
    "nteract": {
     "transient": {
      "deleting": false
     }
    }
   },
   "outputs": [],
   "source": [
    "from facebook_scraper import get_posts   #pip install facebook-scraper\n",
    "import pandas as pd\n",
    "import matplotlib.pyplot as plt\n",
    "import seaborn as sns"
   ]
  },
  {
   "cell_type": "code",
   "execution_count": 2,
   "metadata": {
    "gather": {
     "logged": 1664506040479
    },
    "jupyter": {
     "outputs_hidden": false,
     "source_hidden": false
    },
    "nteract": {
     "transient": {
      "deleting": false
     }
    }
   },
   "outputs": [],
   "source": [
    "# Inicialice el marco de datos para raspar la publicación de Facebook\n",
    "post_df_full = pd.DataFrame(columns = [])"
   ]
  },
  {
   "cell_type": "code",
   "execution_count": 3,
   "metadata": {
    "gather": {
     "logged": 1664507062167
    },
    "jupyter": {
     "outputs_hidden": false,
     "source_hidden": false
    },
    "nteract": {
     "transient": {
      "deleting": false
     }
    }
   },
   "outputs": [
    {
     "name": "stderr",
     "output_type": "stream",
     "text": [
      "C:\\Users\\Carlos\\anaconda3\\lib\\site-packages\\facebook_scraper\\facebook_scraper.py:856: UserWarning: Facebook language detected as es_LA - for best results, set to en_US\n",
      "  f\"Facebook language detected as {locale} - for best results, set to en_US\"\n"
     ]
    },
    {
     "name": "stdout",
     "output_type": "stream",
     "text": [
      "6375190749181080 get\n",
      "6327617230605099 get\n",
      "6376031459097009 get\n",
      "6375922305774591 get\n"
     ]
    },
    {
     "ename": "KeyboardInterrupt",
     "evalue": "",
     "output_type": "error",
     "traceback": [
      "\u001b[1;31m---------------------------------------------------------------------------\u001b[0m",
      "\u001b[1;31mXMLSyntaxError\u001b[0m                            Traceback (most recent call last)",
      "\u001b[1;32m~\\anaconda3\\lib\\site-packages\\pyquery\\pyquery.py\u001b[0m in \u001b[0;36mfromstring\u001b[1;34m(context, parser, custom_parser)\u001b[0m\n\u001b[0;32m     56\u001b[0m             \u001b[1;32mtry\u001b[0m\u001b[1;33m:\u001b[0m\u001b[1;33m\u001b[0m\u001b[1;33m\u001b[0m\u001b[0m\n\u001b[1;32m---> 57\u001b[1;33m                 \u001b[0mresult\u001b[0m \u001b[1;33m=\u001b[0m \u001b[0mgetattr\u001b[0m\u001b[1;33m(\u001b[0m\u001b[0metree\u001b[0m\u001b[1;33m,\u001b[0m \u001b[0mmeth\u001b[0m\u001b[1;33m)\u001b[0m\u001b[1;33m(\u001b[0m\u001b[0mcontext\u001b[0m\u001b[1;33m)\u001b[0m\u001b[1;33m\u001b[0m\u001b[1;33m\u001b[0m\u001b[0m\n\u001b[0m\u001b[0;32m     58\u001b[0m             \u001b[1;32mexcept\u001b[0m \u001b[0metree\u001b[0m\u001b[1;33m.\u001b[0m\u001b[0mXMLSyntaxError\u001b[0m\u001b[1;33m:\u001b[0m\u001b[1;33m\u001b[0m\u001b[1;33m\u001b[0m\u001b[0m\n",
      "\u001b[1;32msrc/lxml/etree.pyx\u001b[0m in \u001b[0;36mlxml.etree.fromstring\u001b[1;34m()\u001b[0m\n",
      "\u001b[1;32msrc/lxml/parser.pxi\u001b[0m in \u001b[0;36mlxml.etree._parseMemoryDocument\u001b[1;34m()\u001b[0m\n",
      "\u001b[1;32msrc/lxml/parser.pxi\u001b[0m in \u001b[0;36mlxml.etree._parseDoc\u001b[1;34m()\u001b[0m\n",
      "\u001b[1;32msrc/lxml/parser.pxi\u001b[0m in \u001b[0;36mlxml.etree._BaseParser._parseDoc\u001b[1;34m()\u001b[0m\n",
      "\u001b[1;32msrc/lxml/parser.pxi\u001b[0m in \u001b[0;36mlxml.etree._ParserContext._handleParseResultDoc\u001b[1;34m()\u001b[0m\n",
      "\u001b[1;32msrc/lxml/parser.pxi\u001b[0m in \u001b[0;36mlxml.etree._handleParseResult\u001b[1;34m()\u001b[0m\n",
      "\u001b[1;32msrc/lxml/parser.pxi\u001b[0m in \u001b[0;36mlxml.etree._raiseParseError\u001b[1;34m()\u001b[0m\n",
      "\u001b[1;31mXMLSyntaxError\u001b[0m: xmlParseEntityRef: no name, line 1, column 3333 (<string>, line 1)",
      "\nDuring handling of the above exception, another exception occurred:\n",
      "\u001b[1;31mKeyboardInterrupt\u001b[0m                         Traceback (most recent call last)",
      "\u001b[1;32m<ipython-input-3-920987ea3685>\u001b[0m in \u001b[0;36m<module>\u001b[1;34m\u001b[0m\n\u001b[0;32m      1\u001b[0m \u001b[1;31m# Comience a recopilar datos de publicaciones de Facebook mediante la biblioteca facebook_scraper\u001b[0m\u001b[1;33m\u001b[0m\u001b[1;33m\u001b[0m\u001b[1;33m\u001b[0m\u001b[0m\n\u001b[0;32m      2\u001b[0m \u001b[1;33m\u001b[0m\u001b[0m\n\u001b[1;32m----> 3\u001b[1;33m \u001b[1;32mfor\u001b[0m \u001b[0mpost\u001b[0m \u001b[1;32min\u001b[0m \u001b[0mget_posts\u001b[0m\u001b[1;33m(\u001b[0m\u001b[1;34m'BACCredomaticCR'\u001b[0m\u001b[1;33m,\u001b[0m \u001b[0mCookies\u001b[0m\u001b[1;33m=\u001b[0m\u001b[1;34m'cookies1.txt'\u001b[0m\u001b[1;33m,\u001b[0m \u001b[0mextra_info\u001b[0m\u001b[1;33m=\u001b[0m\u001b[1;32mTrue\u001b[0m\u001b[1;33m,\u001b[0m \u001b[0mpages\u001b[0m\u001b[1;33m=\u001b[0m\u001b[1;36m10\u001b[0m\u001b[1;33m,\u001b[0m \u001b[0moptions\u001b[0m\u001b[1;33m=\u001b[0m\u001b[1;33m{\u001b[0m\u001b[1;34m\"comments\"\u001b[0m\u001b[1;33m:\u001b[0m \u001b[1;32mTrue\u001b[0m\u001b[1;33m}\u001b[0m\u001b[1;33m)\u001b[0m\u001b[1;33m:\u001b[0m\u001b[1;33m\u001b[0m\u001b[1;33m\u001b[0m\u001b[0m\n\u001b[0m\u001b[0;32m      4\u001b[0m     \u001b[0mpost_entry\u001b[0m \u001b[1;33m=\u001b[0m \u001b[0mpost\u001b[0m\u001b[1;33m\u001b[0m\u001b[1;33m\u001b[0m\u001b[0m\n\u001b[0;32m      5\u001b[0m     \u001b[0mfb_post_df\u001b[0m \u001b[1;33m=\u001b[0m \u001b[0mpd\u001b[0m\u001b[1;33m.\u001b[0m\u001b[0mDataFrame\u001b[0m\u001b[1;33m.\u001b[0m\u001b[0mfrom_dict\u001b[0m\u001b[1;33m(\u001b[0m\u001b[0mpost_entry\u001b[0m\u001b[1;33m,\u001b[0m \u001b[0morient\u001b[0m\u001b[1;33m=\u001b[0m\u001b[1;34m'index'\u001b[0m\u001b[1;33m)\u001b[0m\u001b[1;33m\u001b[0m\u001b[1;33m\u001b[0m\u001b[0m\n",
      "\u001b[1;32m~\\anaconda3\\lib\\site-packages\\facebook_scraper\\facebook_scraper.py\u001b[0m in \u001b[0;36m_generic_get_posts\u001b[1;34m(self, extract_post_fn, iter_pages_fn, page_limit, options, remove_source, latest_date, max_past_limit, **kwargs)\u001b[0m\n\u001b[0;32m   1115\u001b[0m                 \u001b[0mlogger\u001b[0m\u001b[1;33m.\u001b[0m\u001b[0mdebug\u001b[0m\u001b[1;33m(\u001b[0m\u001b[1;34m\"Extracting posts from page %s\"\u001b[0m\u001b[1;33m,\u001b[0m \u001b[0mi\u001b[0m\u001b[1;33m)\u001b[0m\u001b[1;33m\u001b[0m\u001b[1;33m\u001b[0m\u001b[0m\n\u001b[0;32m   1116\u001b[0m                 \u001b[1;32mfor\u001b[0m \u001b[0mpost_element\u001b[0m \u001b[1;32min\u001b[0m \u001b[0mpage\u001b[0m\u001b[1;33m:\u001b[0m\u001b[1;33m\u001b[0m\u001b[1;33m\u001b[0m\u001b[0m\n\u001b[1;32m-> 1117\u001b[1;33m                     \u001b[0mpost\u001b[0m \u001b[1;33m=\u001b[0m \u001b[0mextract_post_fn\u001b[0m\u001b[1;33m(\u001b[0m\u001b[0mpost_element\u001b[0m\u001b[1;33m,\u001b[0m \u001b[0moptions\u001b[0m\u001b[1;33m=\u001b[0m\u001b[0moptions\u001b[0m\u001b[1;33m,\u001b[0m \u001b[0mrequest_fn\u001b[0m\u001b[1;33m=\u001b[0m\u001b[0mself\u001b[0m\u001b[1;33m.\u001b[0m\u001b[0mget\u001b[0m\u001b[1;33m)\u001b[0m\u001b[1;33m\u001b[0m\u001b[1;33m\u001b[0m\u001b[0m\n\u001b[0m\u001b[0;32m   1118\u001b[0m                     \u001b[1;32mif\u001b[0m \u001b[0mremove_source\u001b[0m\u001b[1;33m:\u001b[0m\u001b[1;33m\u001b[0m\u001b[1;33m\u001b[0m\u001b[0m\n\u001b[0;32m   1119\u001b[0m                         \u001b[0mpost\u001b[0m\u001b[1;33m.\u001b[0m\u001b[0mpop\u001b[0m\u001b[1;33m(\u001b[0m\u001b[1;34m'source'\u001b[0m\u001b[1;33m,\u001b[0m \u001b[1;32mNone\u001b[0m\u001b[1;33m)\u001b[0m\u001b[1;33m\u001b[0m\u001b[1;33m\u001b[0m\u001b[0m\n",
      "\u001b[1;32m~\\anaconda3\\lib\\site-packages\\facebook_scraper\\extractors.py\u001b[0m in \u001b[0;36mextract_post\u001b[1;34m(raw_post, options, request_fn, full_post_html)\u001b[0m\n\u001b[0;32m     31\u001b[0m     \u001b[0mraw_post\u001b[0m\u001b[1;33m:\u001b[0m \u001b[0mRawPost\u001b[0m\u001b[1;33m,\u001b[0m \u001b[0moptions\u001b[0m\u001b[1;33m:\u001b[0m \u001b[0mOptions\u001b[0m\u001b[1;33m,\u001b[0m \u001b[0mrequest_fn\u001b[0m\u001b[1;33m:\u001b[0m \u001b[0mRequestFunction\u001b[0m\u001b[1;33m,\u001b[0m \u001b[0mfull_post_html\u001b[0m\u001b[1;33m=\u001b[0m\u001b[1;32mNone\u001b[0m\u001b[1;33m\u001b[0m\u001b[1;33m\u001b[0m\u001b[0m\n\u001b[0;32m     32\u001b[0m ) -> Post:\n\u001b[1;32m---> 33\u001b[1;33m     \u001b[1;32mreturn\u001b[0m \u001b[0mPostExtractor\u001b[0m\u001b[1;33m(\u001b[0m\u001b[0mraw_post\u001b[0m\u001b[1;33m,\u001b[0m \u001b[0moptions\u001b[0m\u001b[1;33m,\u001b[0m \u001b[0mrequest_fn\u001b[0m\u001b[1;33m,\u001b[0m \u001b[0mfull_post_html\u001b[0m\u001b[1;33m)\u001b[0m\u001b[1;33m.\u001b[0m\u001b[0mextract_post\u001b[0m\u001b[1;33m(\u001b[0m\u001b[1;33m)\u001b[0m\u001b[1;33m\u001b[0m\u001b[1;33m\u001b[0m\u001b[0m\n\u001b[0m\u001b[0;32m     34\u001b[0m \u001b[1;33m\u001b[0m\u001b[0m\n\u001b[0;32m     35\u001b[0m \u001b[1;33m\u001b[0m\u001b[0m\n",
      "\u001b[1;32m~\\anaconda3\\lib\\site-packages\\facebook_scraper\\extractors.py\u001b[0m in \u001b[0;36mextract_post\u001b[1;34m(self)\u001b[0m\n\u001b[0;32m    236\u001b[0m                     \u001b[0mpost\u001b[0m\u001b[1;33m[\u001b[0m\u001b[1;34m\"comments_full\"\u001b[0m\u001b[1;33m]\u001b[0m \u001b[1;33m=\u001b[0m \u001b[0mutils\u001b[0m\u001b[1;33m.\u001b[0m\u001b[0msafe_consume\u001b[0m\u001b[1;33m(\u001b[0m\u001b[0mpost\u001b[0m\u001b[1;33m[\u001b[0m\u001b[1;34m\"comments_full\"\u001b[0m\u001b[1;33m]\u001b[0m\u001b[1;33m)\u001b[0m\u001b[1;33m\u001b[0m\u001b[1;33m\u001b[0m\u001b[0m\n\u001b[0;32m    237\u001b[0m                     \u001b[1;32mfor\u001b[0m \u001b[0mcomment\u001b[0m \u001b[1;32min\u001b[0m \u001b[0mpost\u001b[0m\u001b[1;33m[\u001b[0m\u001b[1;34m\"comments_full\"\u001b[0m\u001b[1;33m]\u001b[0m\u001b[1;33m:\u001b[0m\u001b[1;33m\u001b[0m\u001b[1;33m\u001b[0m\u001b[0m\n\u001b[1;32m--> 238\u001b[1;33m                         \u001b[0mcomment\u001b[0m\u001b[1;33m[\u001b[0m\u001b[1;34m\"replies\"\u001b[0m\u001b[1;33m]\u001b[0m \u001b[1;33m=\u001b[0m \u001b[0mutils\u001b[0m\u001b[1;33m.\u001b[0m\u001b[0msafe_consume\u001b[0m\u001b[1;33m(\u001b[0m\u001b[0mcomment\u001b[0m\u001b[1;33m[\u001b[0m\u001b[1;34m\"replies\"\u001b[0m\u001b[1;33m]\u001b[0m\u001b[1;33m)\u001b[0m\u001b[1;33m\u001b[0m\u001b[1;33m\u001b[0m\u001b[0m\n\u001b[0m\u001b[0;32m    239\u001b[0m                         \u001b[1;32mfor\u001b[0m \u001b[0mreply\u001b[0m \u001b[1;32min\u001b[0m \u001b[0mcomment\u001b[0m\u001b[1;33m[\u001b[0m\u001b[1;34m\"replies\"\u001b[0m\u001b[1;33m]\u001b[0m\u001b[1;33m:\u001b[0m\u001b[1;33m\u001b[0m\u001b[1;33m\u001b[0m\u001b[0m\n\u001b[0;32m    240\u001b[0m                             \u001b[0mutils\u001b[0m\u001b[1;33m.\u001b[0m\u001b[0msafe_consume\u001b[0m\u001b[1;33m(\u001b[0m\u001b[0mreply\u001b[0m\u001b[1;33m[\u001b[0m\u001b[1;34m\"comment_reactors\"\u001b[0m\u001b[1;33m]\u001b[0m\u001b[1;33m)\u001b[0m\u001b[1;33m\u001b[0m\u001b[1;33m\u001b[0m\u001b[0m\n",
      "\u001b[1;32m~\\anaconda3\\lib\\site-packages\\facebook_scraper\\utils.py\u001b[0m in \u001b[0;36msafe_consume\u001b[1;34m(generator, sleep)\u001b[0m\n\u001b[0;32m    277\u001b[0m     \u001b[0mresult\u001b[0m \u001b[1;33m=\u001b[0m \u001b[1;33m[\u001b[0m\u001b[1;33m]\u001b[0m\u001b[1;33m\u001b[0m\u001b[1;33m\u001b[0m\u001b[0m\n\u001b[0;32m    278\u001b[0m     \u001b[1;32mtry\u001b[0m\u001b[1;33m:\u001b[0m\u001b[1;33m\u001b[0m\u001b[1;33m\u001b[0m\u001b[0m\n\u001b[1;32m--> 279\u001b[1;33m         \u001b[1;32mfor\u001b[0m \u001b[0mitem\u001b[0m \u001b[1;32min\u001b[0m \u001b[0mgenerator\u001b[0m\u001b[1;33m:\u001b[0m\u001b[1;33m\u001b[0m\u001b[1;33m\u001b[0m\u001b[0m\n\u001b[0m\u001b[0;32m    280\u001b[0m             \u001b[0mresult\u001b[0m\u001b[1;33m.\u001b[0m\u001b[0mappend\u001b[0m\u001b[1;33m(\u001b[0m\u001b[0mitem\u001b[0m\u001b[1;33m)\u001b[0m\u001b[1;33m\u001b[0m\u001b[1;33m\u001b[0m\u001b[0m\n\u001b[0;32m    281\u001b[0m             \u001b[0mtime\u001b[0m\u001b[1;33m.\u001b[0m\u001b[0msleep\u001b[0m\u001b[1;33m(\u001b[0m\u001b[0msleep\u001b[0m\u001b[1;33m)\u001b[0m\u001b[1;33m\u001b[0m\u001b[1;33m\u001b[0m\u001b[0m\n",
      "\u001b[1;32m~\\anaconda3\\lib\\site-packages\\facebook_scraper\\extractors.py\u001b[0m in \u001b[0;36mextract_comment_replies\u001b[1;34m(self, replies_url)\u001b[0m\n\u001b[0;32m   1127\u001b[0m             \u001b[1;32melse\u001b[0m\u001b[1;33m:\u001b[0m\u001b[1;33m\u001b[0m\u001b[1;33m\u001b[0m\u001b[0m\n\u001b[0;32m   1128\u001b[0m                 \u001b[0muse_ajax_post\u001b[0m \u001b[1;33m=\u001b[0m \u001b[1;32mFalse\u001b[0m\u001b[1;33m\u001b[0m\u001b[1;33m\u001b[0m\u001b[0m\n\u001b[1;32m-> 1129\u001b[1;33m                 \u001b[0mresponse\u001b[0m \u001b[1;33m=\u001b[0m \u001b[0mself\u001b[0m\u001b[1;33m.\u001b[0m\u001b[0mrequest\u001b[0m\u001b[1;33m(\u001b[0m\u001b[0mreplies_url\u001b[0m\u001b[1;33m)\u001b[0m\u001b[1;33m\u001b[0m\u001b[1;33m\u001b[0m\u001b[0m\n\u001b[0m\u001b[0;32m   1130\u001b[0m \u001b[1;33m\u001b[0m\u001b[0m\n\u001b[0;32m   1131\u001b[0m         \u001b[1;32mexcept\u001b[0m \u001b[0mexceptions\u001b[0m\u001b[1;33m.\u001b[0m\u001b[0mTemporarilyBanned\u001b[0m\u001b[1;33m:\u001b[0m\u001b[1;33m\u001b[0m\u001b[1;33m\u001b[0m\u001b[0m\n",
      "\u001b[1;32m~\\anaconda3\\lib\\site-packages\\facebook_scraper\\facebook_scraper.py\u001b[0m in \u001b[0;36mget\u001b[1;34m(self, url, **kwargs)\u001b[0m\n\u001b[0;32m    877\u001b[0m                         \u001b[1;32mwith\u001b[0m \u001b[0mopen\u001b[0m\u001b[1;33m(\u001b[0m\u001b[0mfilename\u001b[0m\u001b[1;33m)\u001b[0m \u001b[1;32mas\u001b[0m \u001b[0mf\u001b[0m\u001b[1;33m:\u001b[0m\u001b[1;33m\u001b[0m\u001b[1;33m\u001b[0m\u001b[0m\n\u001b[0;32m    878\u001b[0m                             \u001b[0mresponse\u001b[0m\u001b[1;33m.\u001b[0m\u001b[0mhtml\u001b[0m\u001b[1;33m.\u001b[0m\u001b[0mhtml\u001b[0m \u001b[1;33m=\u001b[0m \u001b[0mf\u001b[0m\u001b[1;33m.\u001b[0m\u001b[0mread\u001b[0m\u001b[1;33m(\u001b[0m\u001b[1;33m)\u001b[0m\u001b[1;33m\u001b[0m\u001b[1;33m\u001b[0m\u001b[0m\n\u001b[1;32m--> 879\u001b[1;33m             \u001b[0mresponse\u001b[0m\u001b[1;33m.\u001b[0m\u001b[0mhtml\u001b[0m\u001b[1;33m.\u001b[0m\u001b[0mhtml\u001b[0m \u001b[1;33m=\u001b[0m \u001b[0mresponse\u001b[0m\u001b[1;33m.\u001b[0m\u001b[0mhtml\u001b[0m\u001b[1;33m.\u001b[0m\u001b[0mhtml\u001b[0m\u001b[1;33m.\u001b[0m\u001b[0mreplace\u001b[0m\u001b[1;33m(\u001b[0m\u001b[1;34m'<!--'\u001b[0m\u001b[1;33m,\u001b[0m \u001b[1;34m''\u001b[0m\u001b[1;33m)\u001b[0m\u001b[1;33m.\u001b[0m\u001b[0mreplace\u001b[0m\u001b[1;33m(\u001b[0m\u001b[1;34m'-->'\u001b[0m\u001b[1;33m,\u001b[0m \u001b[1;34m''\u001b[0m\u001b[1;33m)\u001b[0m\u001b[1;33m\u001b[0m\u001b[1;33m\u001b[0m\u001b[0m\n\u001b[0m\u001b[0;32m    880\u001b[0m             \u001b[0mresponse\u001b[0m\u001b[1;33m.\u001b[0m\u001b[0mraise_for_status\u001b[0m\u001b[1;33m(\u001b[0m\u001b[1;33m)\u001b[0m\u001b[1;33m\u001b[0m\u001b[1;33m\u001b[0m\u001b[0m\n\u001b[0;32m    881\u001b[0m             \u001b[0mself\u001b[0m\u001b[1;33m.\u001b[0m\u001b[0mcheck_locale\u001b[0m\u001b[1;33m(\u001b[0m\u001b[0mresponse\u001b[0m\u001b[1;33m)\u001b[0m\u001b[1;33m\u001b[0m\u001b[1;33m\u001b[0m\u001b[0m\n",
      "\u001b[1;32m~\\anaconda3\\lib\\site-packages\\requests_html.py\u001b[0m in \u001b[0;36mhtml\u001b[1;34m(self)\u001b[0m\n\u001b[0;32m    652\u001b[0m     \u001b[1;32mdef\u001b[0m \u001b[0mhtml\u001b[0m\u001b[1;33m(\u001b[0m\u001b[0mself\u001b[0m\u001b[1;33m)\u001b[0m \u001b[1;33m->\u001b[0m \u001b[0mHTML\u001b[0m\u001b[1;33m:\u001b[0m\u001b[1;33m\u001b[0m\u001b[1;33m\u001b[0m\u001b[0m\n\u001b[0;32m    653\u001b[0m         \u001b[1;32mif\u001b[0m \u001b[1;32mnot\u001b[0m \u001b[0mself\u001b[0m\u001b[1;33m.\u001b[0m\u001b[0m_html\u001b[0m\u001b[1;33m:\u001b[0m\u001b[1;33m\u001b[0m\u001b[1;33m\u001b[0m\u001b[0m\n\u001b[1;32m--> 654\u001b[1;33m             \u001b[0mself\u001b[0m\u001b[1;33m.\u001b[0m\u001b[0m_html\u001b[0m \u001b[1;33m=\u001b[0m \u001b[0mHTML\u001b[0m\u001b[1;33m(\u001b[0m\u001b[0msession\u001b[0m\u001b[1;33m=\u001b[0m\u001b[0mself\u001b[0m\u001b[1;33m.\u001b[0m\u001b[0msession\u001b[0m\u001b[1;33m,\u001b[0m \u001b[0murl\u001b[0m\u001b[1;33m=\u001b[0m\u001b[0mself\u001b[0m\u001b[1;33m.\u001b[0m\u001b[0murl\u001b[0m\u001b[1;33m,\u001b[0m \u001b[0mhtml\u001b[0m\u001b[1;33m=\u001b[0m\u001b[0mself\u001b[0m\u001b[1;33m.\u001b[0m\u001b[0mcontent\u001b[0m\u001b[1;33m,\u001b[0m \u001b[0mdefault_encoding\u001b[0m\u001b[1;33m=\u001b[0m\u001b[0mself\u001b[0m\u001b[1;33m.\u001b[0m\u001b[0mencoding\u001b[0m\u001b[1;33m)\u001b[0m\u001b[1;33m\u001b[0m\u001b[1;33m\u001b[0m\u001b[0m\n\u001b[0m\u001b[0;32m    655\u001b[0m \u001b[1;33m\u001b[0m\u001b[0m\n\u001b[0;32m    656\u001b[0m         \u001b[1;32mreturn\u001b[0m \u001b[0mself\u001b[0m\u001b[1;33m.\u001b[0m\u001b[0m_html\u001b[0m\u001b[1;33m\u001b[0m\u001b[1;33m\u001b[0m\u001b[0m\n",
      "\u001b[1;32m~\\anaconda3\\lib\\site-packages\\requests_html.py\u001b[0m in \u001b[0;36m__init__\u001b[1;34m(self, session, url, html, default_encoding, async_)\u001b[0m\n\u001b[0;32m    419\u001b[0m         super(HTML, self).__init__(\n\u001b[0;32m    420\u001b[0m             \u001b[1;31m# Convert unicode HTML to bytes.\u001b[0m\u001b[1;33m\u001b[0m\u001b[1;33m\u001b[0m\u001b[1;33m\u001b[0m\u001b[0m\n\u001b[1;32m--> 421\u001b[1;33m             \u001b[0melement\u001b[0m\u001b[1;33m=\u001b[0m\u001b[0mPyQuery\u001b[0m\u001b[1;33m(\u001b[0m\u001b[0mhtml\u001b[0m\u001b[1;33m)\u001b[0m\u001b[1;33m(\u001b[0m\u001b[1;34m'html'\u001b[0m\u001b[1;33m)\u001b[0m \u001b[1;32mor\u001b[0m \u001b[0mPyQuery\u001b[0m\u001b[1;33m(\u001b[0m\u001b[1;34mf'<html>{html}</html>'\u001b[0m\u001b[1;33m)\u001b[0m\u001b[1;33m(\u001b[0m\u001b[1;34m'html'\u001b[0m\u001b[1;33m)\u001b[0m\u001b[1;33m,\u001b[0m\u001b[1;33m\u001b[0m\u001b[1;33m\u001b[0m\u001b[0m\n\u001b[0m\u001b[0;32m    422\u001b[0m             \u001b[0mhtml\u001b[0m\u001b[1;33m=\u001b[0m\u001b[0mhtml\u001b[0m\u001b[1;33m,\u001b[0m\u001b[1;33m\u001b[0m\u001b[1;33m\u001b[0m\u001b[0m\n\u001b[0;32m    423\u001b[0m             \u001b[0murl\u001b[0m\u001b[1;33m=\u001b[0m\u001b[0murl\u001b[0m\u001b[1;33m,\u001b[0m\u001b[1;33m\u001b[0m\u001b[1;33m\u001b[0m\u001b[0m\n",
      "\u001b[1;32m~\\anaconda3\\lib\\site-packages\\pyquery\\pyquery.py\u001b[0m in \u001b[0;36m__init__\u001b[1;34m(self, *args, **kwargs)\u001b[0m\n\u001b[0;32m    215\u001b[0m             \u001b[1;32mif\u001b[0m \u001b[0misinstance\u001b[0m\u001b[1;33m(\u001b[0m\u001b[0mcontext\u001b[0m\u001b[1;33m,\u001b[0m \u001b[0mbasestring\u001b[0m\u001b[1;33m)\u001b[0m\u001b[1;33m:\u001b[0m\u001b[1;33m\u001b[0m\u001b[1;33m\u001b[0m\u001b[0m\n\u001b[0;32m    216\u001b[0m                 \u001b[1;32mtry\u001b[0m\u001b[1;33m:\u001b[0m\u001b[1;33m\u001b[0m\u001b[1;33m\u001b[0m\u001b[0m\n\u001b[1;32m--> 217\u001b[1;33m                     \u001b[0melements\u001b[0m \u001b[1;33m=\u001b[0m \u001b[0mfromstring\u001b[0m\u001b[1;33m(\u001b[0m\u001b[0mcontext\u001b[0m\u001b[1;33m,\u001b[0m \u001b[0mself\u001b[0m\u001b[1;33m.\u001b[0m\u001b[0mparser\u001b[0m\u001b[1;33m)\u001b[0m\u001b[1;33m\u001b[0m\u001b[1;33m\u001b[0m\u001b[0m\n\u001b[0m\u001b[0;32m    218\u001b[0m                 \u001b[1;32mexcept\u001b[0m \u001b[0mException\u001b[0m\u001b[1;33m:\u001b[0m\u001b[1;33m\u001b[0m\u001b[1;33m\u001b[0m\u001b[0m\n\u001b[0;32m    219\u001b[0m                     \u001b[1;32mraise\u001b[0m\u001b[1;33m\u001b[0m\u001b[1;33m\u001b[0m\u001b[0m\n",
      "\u001b[1;32m~\\anaconda3\\lib\\site-packages\\pyquery\\pyquery.py\u001b[0m in \u001b[0;36mfromstring\u001b[1;34m(context, parser, custom_parser)\u001b[0m\n\u001b[0;32m     59\u001b[0m                 \u001b[1;32mif\u001b[0m \u001b[0mhasattr\u001b[0m\u001b[1;33m(\u001b[0m\u001b[0mcontext\u001b[0m\u001b[1;33m,\u001b[0m \u001b[1;34m'seek'\u001b[0m\u001b[1;33m)\u001b[0m\u001b[1;33m:\u001b[0m\u001b[1;33m\u001b[0m\u001b[1;33m\u001b[0m\u001b[0m\n\u001b[0;32m     60\u001b[0m                     \u001b[0mcontext\u001b[0m\u001b[1;33m.\u001b[0m\u001b[0mseek\u001b[0m\u001b[1;33m(\u001b[0m\u001b[1;36m0\u001b[0m\u001b[1;33m)\u001b[0m\u001b[1;33m\u001b[0m\u001b[1;33m\u001b[0m\u001b[0m\n\u001b[1;32m---> 61\u001b[1;33m                 \u001b[0mresult\u001b[0m \u001b[1;33m=\u001b[0m \u001b[0mgetattr\u001b[0m\u001b[1;33m(\u001b[0m\u001b[0mlxml\u001b[0m\u001b[1;33m.\u001b[0m\u001b[0mhtml\u001b[0m\u001b[1;33m,\u001b[0m \u001b[0mmeth\u001b[0m\u001b[1;33m)\u001b[0m\u001b[1;33m(\u001b[0m\u001b[0mcontext\u001b[0m\u001b[1;33m)\u001b[0m\u001b[1;33m\u001b[0m\u001b[1;33m\u001b[0m\u001b[0m\n\u001b[0m\u001b[0;32m     62\u001b[0m             \u001b[1;32mif\u001b[0m \u001b[0misinstance\u001b[0m\u001b[1;33m(\u001b[0m\u001b[0mresult\u001b[0m\u001b[1;33m,\u001b[0m \u001b[0metree\u001b[0m\u001b[1;33m.\u001b[0m\u001b[0m_ElementTree\u001b[0m\u001b[1;33m)\u001b[0m\u001b[1;33m:\u001b[0m\u001b[1;33m\u001b[0m\u001b[1;33m\u001b[0m\u001b[0m\n\u001b[0;32m     63\u001b[0m                 \u001b[1;32mreturn\u001b[0m \u001b[1;33m[\u001b[0m\u001b[0mresult\u001b[0m\u001b[1;33m.\u001b[0m\u001b[0mgetroot\u001b[0m\u001b[1;33m(\u001b[0m\u001b[1;33m)\u001b[0m\u001b[1;33m]\u001b[0m\u001b[1;33m\u001b[0m\u001b[1;33m\u001b[0m\u001b[0m\n",
      "\u001b[1;32m~\\anaconda3\\lib\\site-packages\\lxml\\html\\__init__.py\u001b[0m in \u001b[0;36mfromstring\u001b[1;34m(html, base_url, parser, **kw)\u001b[0m\n\u001b[0;32m    873\u001b[0m     \u001b[1;32melse\u001b[0m\u001b[1;33m:\u001b[0m\u001b[1;33m\u001b[0m\u001b[1;33m\u001b[0m\u001b[0m\n\u001b[0;32m    874\u001b[0m         \u001b[0mis_full_html\u001b[0m \u001b[1;33m=\u001b[0m \u001b[0m_looks_like_full_html_unicode\u001b[0m\u001b[1;33m(\u001b[0m\u001b[0mhtml\u001b[0m\u001b[1;33m)\u001b[0m\u001b[1;33m\u001b[0m\u001b[1;33m\u001b[0m\u001b[0m\n\u001b[1;32m--> 875\u001b[1;33m     \u001b[0mdoc\u001b[0m \u001b[1;33m=\u001b[0m \u001b[0mdocument_fromstring\u001b[0m\u001b[1;33m(\u001b[0m\u001b[0mhtml\u001b[0m\u001b[1;33m,\u001b[0m \u001b[0mparser\u001b[0m\u001b[1;33m=\u001b[0m\u001b[0mparser\u001b[0m\u001b[1;33m,\u001b[0m \u001b[0mbase_url\u001b[0m\u001b[1;33m=\u001b[0m\u001b[0mbase_url\u001b[0m\u001b[1;33m,\u001b[0m \u001b[1;33m**\u001b[0m\u001b[0mkw\u001b[0m\u001b[1;33m)\u001b[0m\u001b[1;33m\u001b[0m\u001b[1;33m\u001b[0m\u001b[0m\n\u001b[0m\u001b[0;32m    876\u001b[0m     \u001b[1;32mif\u001b[0m \u001b[0mis_full_html\u001b[0m\u001b[1;33m:\u001b[0m\u001b[1;33m\u001b[0m\u001b[1;33m\u001b[0m\u001b[0m\n\u001b[0;32m    877\u001b[0m         \u001b[1;32mreturn\u001b[0m \u001b[0mdoc\u001b[0m\u001b[1;33m\u001b[0m\u001b[1;33m\u001b[0m\u001b[0m\n",
      "\u001b[1;32m~\\anaconda3\\lib\\site-packages\\lxml\\html\\__init__.py\u001b[0m in \u001b[0;36mdocument_fromstring\u001b[1;34m(html, parser, ensure_head_body, **kw)\u001b[0m\n\u001b[0;32m    759\u001b[0m     \u001b[1;32mif\u001b[0m \u001b[0mparser\u001b[0m \u001b[1;32mis\u001b[0m \u001b[1;32mNone\u001b[0m\u001b[1;33m:\u001b[0m\u001b[1;33m\u001b[0m\u001b[1;33m\u001b[0m\u001b[0m\n\u001b[0;32m    760\u001b[0m         \u001b[0mparser\u001b[0m \u001b[1;33m=\u001b[0m \u001b[0mhtml_parser\u001b[0m\u001b[1;33m\u001b[0m\u001b[1;33m\u001b[0m\u001b[0m\n\u001b[1;32m--> 761\u001b[1;33m     \u001b[0mvalue\u001b[0m \u001b[1;33m=\u001b[0m \u001b[0metree\u001b[0m\u001b[1;33m.\u001b[0m\u001b[0mfromstring\u001b[0m\u001b[1;33m(\u001b[0m\u001b[0mhtml\u001b[0m\u001b[1;33m,\u001b[0m \u001b[0mparser\u001b[0m\u001b[1;33m,\u001b[0m \u001b[1;33m**\u001b[0m\u001b[0mkw\u001b[0m\u001b[1;33m)\u001b[0m\u001b[1;33m\u001b[0m\u001b[1;33m\u001b[0m\u001b[0m\n\u001b[0m\u001b[0;32m    762\u001b[0m     \u001b[1;32mif\u001b[0m \u001b[0mvalue\u001b[0m \u001b[1;32mis\u001b[0m \u001b[1;32mNone\u001b[0m\u001b[1;33m:\u001b[0m\u001b[1;33m\u001b[0m\u001b[1;33m\u001b[0m\u001b[0m\n\u001b[0;32m    763\u001b[0m         raise etree.ParserError(\n",
      "\u001b[1;32msrc/lxml/etree.pyx\u001b[0m in \u001b[0;36mlxml.etree.fromstring\u001b[1;34m()\u001b[0m\n",
      "\u001b[1;32msrc/lxml/etree.pyx\u001b[0m in \u001b[0;36mlxml.etree._Document.getroot\u001b[1;34m()\u001b[0m\n",
      "\u001b[1;32msrc/lxml/etree.pyx\u001b[0m in \u001b[0;36mlxml.etree._elementFactory\u001b[1;34m()\u001b[0m\n",
      "\u001b[1;32msrc/lxml/classlookup.pxi\u001b[0m in \u001b[0;36mlxml.etree._parser_class_lookup\u001b[1;34m()\u001b[0m\n",
      "\u001b[1;32msrc/lxml/classlookup.pxi\u001b[0m in \u001b[0;36mlxml.etree._custom_class_lookup\u001b[1;34m()\u001b[0m\n",
      "\u001b[1;32m~\\anaconda3\\lib\\site-packages\\lxml\\html\\__init__.py\u001b[0m in \u001b[0;36mlookup\u001b[1;34m(self, node_type, document, namespace, name)\u001b[0m\n\u001b[0;32m    733\u001b[0m         \u001b[0mself\u001b[0m\u001b[1;33m.\u001b[0m\u001b[0m_element_classes\u001b[0m \u001b[1;33m=\u001b[0m \u001b[0mclasses\u001b[0m\u001b[1;33m\u001b[0m\u001b[1;33m\u001b[0m\u001b[0m\n\u001b[0;32m    734\u001b[0m \u001b[1;33m\u001b[0m\u001b[0m\n\u001b[1;32m--> 735\u001b[1;33m     \u001b[1;32mdef\u001b[0m \u001b[0mlookup\u001b[0m\u001b[1;33m(\u001b[0m\u001b[0mself\u001b[0m\u001b[1;33m,\u001b[0m \u001b[0mnode_type\u001b[0m\u001b[1;33m,\u001b[0m \u001b[0mdocument\u001b[0m\u001b[1;33m,\u001b[0m \u001b[0mnamespace\u001b[0m\u001b[1;33m,\u001b[0m \u001b[0mname\u001b[0m\u001b[1;33m)\u001b[0m\u001b[1;33m:\u001b[0m\u001b[1;33m\u001b[0m\u001b[1;33m\u001b[0m\u001b[0m\n\u001b[0m\u001b[0;32m    736\u001b[0m         \u001b[1;32mif\u001b[0m \u001b[0mnode_type\u001b[0m \u001b[1;33m==\u001b[0m \u001b[1;34m'element'\u001b[0m\u001b[1;33m:\u001b[0m\u001b[1;33m\u001b[0m\u001b[1;33m\u001b[0m\u001b[0m\n\u001b[0;32m    737\u001b[0m             \u001b[1;32mreturn\u001b[0m \u001b[0mself\u001b[0m\u001b[1;33m.\u001b[0m\u001b[0m_element_classes\u001b[0m\u001b[1;33m.\u001b[0m\u001b[0mget\u001b[0m\u001b[1;33m(\u001b[0m\u001b[0mname\u001b[0m\u001b[1;33m.\u001b[0m\u001b[0mlower\u001b[0m\u001b[1;33m(\u001b[0m\u001b[1;33m)\u001b[0m\u001b[1;33m,\u001b[0m \u001b[0mHtmlElement\u001b[0m\u001b[1;33m)\u001b[0m\u001b[1;33m\u001b[0m\u001b[1;33m\u001b[0m\u001b[0m\n",
      "\u001b[1;31mKeyboardInterrupt\u001b[0m: "
     ]
    }
   ],
   "source": [
    "# Comience a recopilar datos de publicaciones de Facebook mediante la biblioteca facebook_scraper\n",
    "\n",
    "for post in get_posts('BACCredomaticCR', Cookies='cookies1.txt', extra_info=True, pages=10, options={\"comments\": True}):\n",
    "    post_entry = post\n",
    "    fb_post_df = pd.DataFrame.from_dict(post_entry, orient='index')\n",
    "    fb_post_df = fb_post_df.transpose()\n",
    "    post_df_full = post_df_full.append(fb_post_df)\n",
    "    print(post['post_id']+' get')"
   ]
  },
  {
   "cell_type": "code",
   "execution_count": 29,
   "metadata": {
    "gather": {
     "logged": 1664507213842
    },
    "jupyter": {
     "outputs_hidden": false,
     "source_hidden": false
    },
    "nteract": {
     "transient": {
      "deleting": false
     }
    }
   },
   "outputs": [
    {
     "name": "stdout",
     "output_type": "stream",
     "text": [
      "<class 'pandas.core.frame.DataFrame'>\n",
      "Int64Index: 36 entries, 0 to 0\n",
      "Data columns (total 50 columns):\n",
      " #   Column                         Non-Null Count  Dtype         \n",
      "---  ------                         --------------  -----         \n",
      " 0   post_id                        36 non-null     object        \n",
      " 1   text                           36 non-null     object        \n",
      " 2   post_text                      36 non-null     object        \n",
      " 3   shared_text                    36 non-null     object        \n",
      " 4   original_text                  0 non-null      object        \n",
      " 5   time                           36 non-null     datetime64[ns]\n",
      " 6   timestamp                      36 non-null     object        \n",
      " 7   image                          0 non-null      object        \n",
      " 8   image_lowquality               36 non-null     object        \n",
      " 9   images                         35 non-null     object        \n",
      " 10  images_description             35 non-null     object        \n",
      " 11  images_lowquality              36 non-null     object        \n",
      " 12  images_lowquality_description  36 non-null     object        \n",
      " 13  video                          5 non-null      object        \n",
      " 14  video_duration_seconds         0 non-null      object        \n",
      " 15  video_height                   0 non-null      object        \n",
      " 16  video_id                       5 non-null      object        \n",
      " 17  video_quality                  0 non-null      object        \n",
      " 18  video_size_MB                  0 non-null      object        \n",
      " 19  video_thumbnail                5 non-null      object        \n",
      " 20  video_watches                  0 non-null      object        \n",
      " 21  video_width                    0 non-null      object        \n",
      " 22  likes                          36 non-null     object        \n",
      " 23  comments                       36 non-null     object        \n",
      " 24  shares                         36 non-null     object        \n",
      " 25  post_url                       36 non-null     object        \n",
      " 26  link                           20 non-null     object        \n",
      " 27  links                          36 non-null     object        \n",
      " 28  user_id                        36 non-null     object        \n",
      " 29  username                       36 non-null     object        \n",
      " 30  user_url                       36 non-null     object        \n",
      " 31  is_live                        36 non-null     object        \n",
      " 32  factcheck                      0 non-null      object        \n",
      " 33  shared_post_id                 0 non-null      object        \n",
      " 34  shared_time                    0 non-null      object        \n",
      " 35  shared_user_id                 0 non-null      object        \n",
      " 36  shared_username                0 non-null      object        \n",
      " 37  shared_post_url                0 non-null      object        \n",
      " 38  available                      36 non-null     object        \n",
      " 39  comments_full                  36 non-null     object        \n",
      " 40  reactors                       0 non-null      object        \n",
      " 41  w3_fb_url                      0 non-null      object        \n",
      " 42  reactions                      0 non-null      object        \n",
      " 43  reaction_count                 36 non-null     object        \n",
      " 44  with                           0 non-null      object        \n",
      " 45  page_id                        36 non-null     object        \n",
      " 46  sharers                        0 non-null      object        \n",
      " 47  image_id                       24 non-null     object        \n",
      " 48  image_ids                      36 non-null     object        \n",
      " 49  was_live                       36 non-null     object        \n",
      "dtypes: datetime64[ns](1), object(49)\n",
      "memory usage: 14.3+ KB\n"
     ]
    }
   ],
   "source": [
    "# Verifique la información del marco de datos, se están raspando 47 columnas de datos de la publicación de Facebook\n",
    "post_df_full.info()"
   ]
  },
  {
   "cell_type": "code",
   "execution_count": 30,
   "metadata": {
    "gather": {
     "logged": 1664507218503
    },
    "jupyter": {
     "outputs_hidden": false,
     "source_hidden": false
    },
    "nteract": {
     "transient": {
      "deleting": false
     }
    }
   },
   "outputs": [],
   "source": [
    "post_df_full.to_csv(r'bac_facebook_post.csv', sep=';', encoding='utf-8', header='true')"
   ]
  },
  {
   "cell_type": "code",
   "execution_count": 31,
   "metadata": {
    "gather": {
     "logged": 1664503847941
    },
    "jupyter": {
     "outputs_hidden": false,
     "source_hidden": false
    },
    "nteract": {
     "transient": {
      "deleting": false
     }
    }
   },
   "outputs": [],
   "source": [
    "post_df_full_clean = post_df_full"
   ]
  },
  {
   "cell_type": "code",
   "execution_count": 32,
   "metadata": {
    "gather": {
     "logged": 1664503870185
    },
    "jupyter": {
     "outputs_hidden": false,
     "source_hidden": false
    },
    "nteract": {
     "transient": {
      "deleting": false
     }
    }
   },
   "outputs": [
    {
     "data": {
      "text/html": [
       "<div>\n",
       "<style scoped>\n",
       "    .dataframe tbody tr th:only-of-type {\n",
       "        vertical-align: middle;\n",
       "    }\n",
       "\n",
       "    .dataframe tbody tr th {\n",
       "        vertical-align: top;\n",
       "    }\n",
       "\n",
       "    .dataframe thead th {\n",
       "        text-align: right;\n",
       "    }\n",
       "</style>\n",
       "<table border=\"1\" class=\"dataframe\">\n",
       "  <thead>\n",
       "    <tr style=\"text-align: right;\">\n",
       "      <th></th>\n",
       "      <th>post_id</th>\n",
       "      <th>text</th>\n",
       "      <th>post_text</th>\n",
       "      <th>shared_text</th>\n",
       "      <th>original_text</th>\n",
       "      <th>time</th>\n",
       "      <th>timestamp</th>\n",
       "      <th>image</th>\n",
       "      <th>image_lowquality</th>\n",
       "      <th>images</th>\n",
       "      <th>...</th>\n",
       "      <th>reactors</th>\n",
       "      <th>w3_fb_url</th>\n",
       "      <th>reactions</th>\n",
       "      <th>reaction_count</th>\n",
       "      <th>with</th>\n",
       "      <th>page_id</th>\n",
       "      <th>sharers</th>\n",
       "      <th>image_id</th>\n",
       "      <th>image_ids</th>\n",
       "      <th>was_live</th>\n",
       "    </tr>\n",
       "  </thead>\n",
       "  <tbody>\n",
       "    <tr>\n",
       "      <th>0</th>\n",
       "      <td>6372559649444190</td>\n",
       "      <td>¿Qué es lo que siempre vas a recordar de las e...</td>\n",
       "      <td>¿Qué es lo que siempre vas a recordar de las e...</td>\n",
       "      <td></td>\n",
       "      <td>None</td>\n",
       "      <td>2023-03-13 14:07:29</td>\n",
       "      <td>1678738049</td>\n",
       "      <td>None</td>\n",
       "      <td>https://scontent.fsyq7-1.fna.fbcdn.net/v/t39.3...</td>\n",
       "      <td>[]</td>\n",
       "      <td>...</td>\n",
       "      <td>None</td>\n",
       "      <td>None</td>\n",
       "      <td>None</td>\n",
       "      <td>1</td>\n",
       "      <td>None</td>\n",
       "      <td>204957802871103</td>\n",
       "      <td>None</td>\n",
       "      <td>6372558372777651</td>\n",
       "      <td>[6372558372777651]</td>\n",
       "      <td>False</td>\n",
       "    </tr>\n",
       "    <tr>\n",
       "      <th>0</th>\n",
       "      <td>6372253112808177</td>\n",
       "      <td>Nos transformamos para seguir compartiéndote h...</td>\n",
       "      <td>Nos transformamos para seguir compartiéndote h...</td>\n",
       "      <td></td>\n",
       "      <td>None</td>\n",
       "      <td>2023-03-13 12:12:50</td>\n",
       "      <td>1678731170</td>\n",
       "      <td>None</td>\n",
       "      <td>https://scontent.fsyq7-1.fna.fbcdn.net/v/t39.3...</td>\n",
       "      <td>[]</td>\n",
       "      <td>...</td>\n",
       "      <td>None</td>\n",
       "      <td>None</td>\n",
       "      <td>None</td>\n",
       "      <td>28</td>\n",
       "      <td>None</td>\n",
       "      <td>204957802871103</td>\n",
       "      <td>None</td>\n",
       "      <td>6372252546141567</td>\n",
       "      <td>[6372252546141567]</td>\n",
       "      <td>False</td>\n",
       "    </tr>\n",
       "    <tr>\n",
       "      <th>0</th>\n",
       "      <td>6307937159239773</td>\n",
       "      <td>¡Viví con pasión momentos únicos! Pasá un día ...</td>\n",
       "      <td>¡Viví con pasión momentos únicos! Pasá un día ...</td>\n",
       "      <td></td>\n",
       "      <td>None</td>\n",
       "      <td>2023-03-13 10:00:07</td>\n",
       "      <td>1678723207</td>\n",
       "      <td>None</td>\n",
       "      <td>https://scontent.fsyq7-1.fna.fbcdn.net/v/t39.3...</td>\n",
       "      <td>[]</td>\n",
       "      <td>...</td>\n",
       "      <td>None</td>\n",
       "      <td>None</td>\n",
       "      <td>None</td>\n",
       "      <td>3</td>\n",
       "      <td>None</td>\n",
       "      <td>204957802871103</td>\n",
       "      <td>None</td>\n",
       "      <td>6307925489240940</td>\n",
       "      <td>[6307925489240940]</td>\n",
       "      <td>False</td>\n",
       "    </tr>\n",
       "    <tr>\n",
       "      <th>0</th>\n",
       "      <td>6372510159449139</td>\n",
       "      <td>¡Dancing queen! Siente el ritmo con ABBA en vi...</td>\n",
       "      <td>¡Dancing queen! Siente el ritmo con ABBA en vi...</td>\n",
       "      <td></td>\n",
       "      <td>None</td>\n",
       "      <td>2023-03-13 10:00:00</td>\n",
       "      <td>1678723200</td>\n",
       "      <td>None</td>\n",
       "      <td>https://scontent.fsyq7-1.fna.fbcdn.net/v/t39.3...</td>\n",
       "      <td>[]</td>\n",
       "      <td>...</td>\n",
       "      <td>None</td>\n",
       "      <td>None</td>\n",
       "      <td>None</td>\n",
       "      <td>5</td>\n",
       "      <td>None</td>\n",
       "      <td>204957802871103</td>\n",
       "      <td>None</td>\n",
       "      <td>6372506232782865</td>\n",
       "      <td>[6372506232782865]</td>\n",
       "      <td>False</td>\n",
       "    </tr>\n",
       "    <tr>\n",
       "      <th>0</th>\n",
       "      <td>6324244904275665</td>\n",
       "      <td>Cumplir metas es emocionante, pero saber que s...</td>\n",
       "      <td>Cumplir metas es emocionante, pero saber que s...</td>\n",
       "      <td></td>\n",
       "      <td>None</td>\n",
       "      <td>2023-03-12 15:00:01</td>\n",
       "      <td>1678654801</td>\n",
       "      <td>None</td>\n",
       "      <td>https://scontent.fsyq7-1.fna.fbcdn.net/v/t39.3...</td>\n",
       "      <td>[]</td>\n",
       "      <td>...</td>\n",
       "      <td>None</td>\n",
       "      <td>None</td>\n",
       "      <td>None</td>\n",
       "      <td>3</td>\n",
       "      <td>None</td>\n",
       "      <td>204957802871103</td>\n",
       "      <td>None</td>\n",
       "      <td>None</td>\n",
       "      <td>[]</td>\n",
       "      <td>False</td>\n",
       "    </tr>\n",
       "  </tbody>\n",
       "</table>\n",
       "<p>5 rows × 50 columns</p>\n",
       "</div>"
      ],
      "text/plain": [
       "            post_id                                               text  \\\n",
       "0  6372559649444190  ¿Qué es lo que siempre vas a recordar de las e...   \n",
       "0  6372253112808177  Nos transformamos para seguir compartiéndote h...   \n",
       "0  6307937159239773  ¡Viví con pasión momentos únicos! Pasá un día ...   \n",
       "0  6372510159449139  ¡Dancing queen! Siente el ritmo con ABBA en vi...   \n",
       "0  6324244904275665  Cumplir metas es emocionante, pero saber que s...   \n",
       "\n",
       "                                           post_text shared_text  \\\n",
       "0  ¿Qué es lo que siempre vas a recordar de las e...               \n",
       "0  Nos transformamos para seguir compartiéndote h...               \n",
       "0  ¡Viví con pasión momentos únicos! Pasá un día ...               \n",
       "0  ¡Dancing queen! Siente el ritmo con ABBA en vi...               \n",
       "0  Cumplir metas es emocionante, pero saber que s...               \n",
       "\n",
       "  original_text                time   timestamp image  \\\n",
       "0          None 2023-03-13 14:07:29  1678738049  None   \n",
       "0          None 2023-03-13 12:12:50  1678731170  None   \n",
       "0          None 2023-03-13 10:00:07  1678723207  None   \n",
       "0          None 2023-03-13 10:00:00  1678723200  None   \n",
       "0          None 2023-03-12 15:00:01  1678654801  None   \n",
       "\n",
       "                                    image_lowquality images  ... reactors  \\\n",
       "0  https://scontent.fsyq7-1.fna.fbcdn.net/v/t39.3...     []  ...     None   \n",
       "0  https://scontent.fsyq7-1.fna.fbcdn.net/v/t39.3...     []  ...     None   \n",
       "0  https://scontent.fsyq7-1.fna.fbcdn.net/v/t39.3...     []  ...     None   \n",
       "0  https://scontent.fsyq7-1.fna.fbcdn.net/v/t39.3...     []  ...     None   \n",
       "0  https://scontent.fsyq7-1.fna.fbcdn.net/v/t39.3...     []  ...     None   \n",
       "\n",
       "  w3_fb_url reactions reaction_count  with          page_id sharers  \\\n",
       "0      None      None              1  None  204957802871103    None   \n",
       "0      None      None             28  None  204957802871103    None   \n",
       "0      None      None              3  None  204957802871103    None   \n",
       "0      None      None              5  None  204957802871103    None   \n",
       "0      None      None              3  None  204957802871103    None   \n",
       "\n",
       "           image_id           image_ids was_live  \n",
       "0  6372558372777651  [6372558372777651]    False  \n",
       "0  6372252546141567  [6372252546141567]    False  \n",
       "0  6307925489240940  [6307925489240940]    False  \n",
       "0  6372506232782865  [6372506232782865]    False  \n",
       "0              None                  []    False  \n",
       "\n",
       "[5 rows x 50 columns]"
      ]
     },
     "execution_count": 32,
     "metadata": {},
     "output_type": "execute_result"
    }
   ],
   "source": [
    "post_df_full_clean.head()"
   ]
  },
  {
   "cell_type": "code",
   "execution_count": 17,
   "metadata": {
    "gather": {
     "logged": 1664507227871
    },
    "jupyter": {
     "outputs_hidden": false,
     "source_hidden": false
    },
    "nteract": {
     "transient": {
      "deleting": false
     }
    }
   },
   "outputs": [
    {
     "data": {
      "text/html": [
       "<div>\n",
       "<style scoped>\n",
       "    .dataframe tbody tr th:only-of-type {\n",
       "        vertical-align: middle;\n",
       "    }\n",
       "\n",
       "    .dataframe tbody tr th {\n",
       "        vertical-align: top;\n",
       "    }\n",
       "\n",
       "    .dataframe thead th {\n",
       "        text-align: right;\n",
       "    }\n",
       "</style>\n",
       "<table border=\"1\" class=\"dataframe\">\n",
       "  <thead>\n",
       "    <tr style=\"text-align: right;\">\n",
       "      <th></th>\n",
       "      <th>post_id</th>\n",
       "      <th>text</th>\n",
       "      <th>post_text</th>\n",
       "      <th>shared_text</th>\n",
       "      <th>original_text</th>\n",
       "      <th>time</th>\n",
       "      <th>timestamp</th>\n",
       "      <th>image</th>\n",
       "      <th>image_lowquality</th>\n",
       "      <th>images</th>\n",
       "      <th>...</th>\n",
       "      <th>reactors</th>\n",
       "      <th>w3_fb_url</th>\n",
       "      <th>reactions</th>\n",
       "      <th>reaction_count</th>\n",
       "      <th>with</th>\n",
       "      <th>page_id</th>\n",
       "      <th>sharers</th>\n",
       "      <th>image_id</th>\n",
       "      <th>image_ids</th>\n",
       "      <th>was_live</th>\n",
       "    </tr>\n",
       "  </thead>\n",
       "  <tbody>\n",
       "    <tr>\n",
       "      <th>0</th>\n",
       "      <td>6372559649444190</td>\n",
       "      <td>¿Qué es lo que siempre vas a recordar de las e...</td>\n",
       "      <td>¿Qué es lo que siempre vas a recordar de las e...</td>\n",
       "      <td></td>\n",
       "      <td>None</td>\n",
       "      <td>2023-03-13 14:07:29</td>\n",
       "      <td>1678738049</td>\n",
       "      <td>https://scontent.fsyq7-1.fna.fbcdn.net/v/t39.3...</td>\n",
       "      <td>https://scontent.fsyq7-1.fna.fbcdn.net/v/t39.3...</td>\n",
       "      <td>[https://scontent.fsyq7-1.fna.fbcdn.net/v/t39....</td>\n",
       "      <td>...</td>\n",
       "      <td>None</td>\n",
       "      <td>None</td>\n",
       "      <td>None</td>\n",
       "      <td>1</td>\n",
       "      <td>None</td>\n",
       "      <td>204957802871103</td>\n",
       "      <td>None</td>\n",
       "      <td>6372558372777651</td>\n",
       "      <td>[6372558372777651]</td>\n",
       "      <td>False</td>\n",
       "    </tr>\n",
       "    <tr>\n",
       "      <th>0</th>\n",
       "      <td>6372253112808177</td>\n",
       "      <td>Nos transformamos para seguir compartiéndote h...</td>\n",
       "      <td>Nos transformamos para seguir compartiéndote h...</td>\n",
       "      <td></td>\n",
       "      <td>None</td>\n",
       "      <td>2023-03-13 12:12:50</td>\n",
       "      <td>1678731170</td>\n",
       "      <td>https://scontent.fsyq7-1.fna.fbcdn.net/v/t39.3...</td>\n",
       "      <td>https://scontent.fsyq7-1.fna.fbcdn.net/v/t39.3...</td>\n",
       "      <td>[https://scontent.fsyq7-1.fna.fbcdn.net/v/t39....</td>\n",
       "      <td>...</td>\n",
       "      <td>None</td>\n",
       "      <td>None</td>\n",
       "      <td>None</td>\n",
       "      <td>26</td>\n",
       "      <td>None</td>\n",
       "      <td>204957802871103</td>\n",
       "      <td>None</td>\n",
       "      <td>6372252546141567</td>\n",
       "      <td>[6372252546141567]</td>\n",
       "      <td>False</td>\n",
       "    </tr>\n",
       "    <tr>\n",
       "      <th>0</th>\n",
       "      <td>6307937159239773</td>\n",
       "      <td>¡Viví con pasión momentos únicos! Pasá un día ...</td>\n",
       "      <td>¡Viví con pasión momentos únicos! Pasá un día ...</td>\n",
       "      <td></td>\n",
       "      <td>None</td>\n",
       "      <td>2023-03-13 10:00:07</td>\n",
       "      <td>1678723207</td>\n",
       "      <td>https://scontent.fsyq7-1.fna.fbcdn.net/v/t39.3...</td>\n",
       "      <td>https://scontent.fsyq7-1.fna.fbcdn.net/v/t39.3...</td>\n",
       "      <td>[https://scontent.fsyq7-1.fna.fbcdn.net/v/t39....</td>\n",
       "      <td>...</td>\n",
       "      <td>None</td>\n",
       "      <td>None</td>\n",
       "      <td>None</td>\n",
       "      <td>3</td>\n",
       "      <td>None</td>\n",
       "      <td>204957802871103</td>\n",
       "      <td>None</td>\n",
       "      <td>6307925489240940</td>\n",
       "      <td>[6307925489240940]</td>\n",
       "      <td>False</td>\n",
       "    </tr>\n",
       "    <tr>\n",
       "      <th>0</th>\n",
       "      <td>6372510159449139</td>\n",
       "      <td>¡Dancing queen! Siente el ritmo con ABBA en vi...</td>\n",
       "      <td>¡Dancing queen! Siente el ritmo con ABBA en vi...</td>\n",
       "      <td></td>\n",
       "      <td>None</td>\n",
       "      <td>2023-03-13 10:00:00</td>\n",
       "      <td>1678723200</td>\n",
       "      <td>None</td>\n",
       "      <td>https://scontent.fsyq7-1.fna.fbcdn.net/v/t39.3...</td>\n",
       "      <td>[]</td>\n",
       "      <td>...</td>\n",
       "      <td>None</td>\n",
       "      <td>None</td>\n",
       "      <td>None</td>\n",
       "      <td>4</td>\n",
       "      <td>None</td>\n",
       "      <td>204957802871103</td>\n",
       "      <td>None</td>\n",
       "      <td>6372506232782865</td>\n",
       "      <td>[6372506232782865]</td>\n",
       "      <td>False</td>\n",
       "    </tr>\n",
       "    <tr>\n",
       "      <th>0</th>\n",
       "      <td>6324244904275665</td>\n",
       "      <td>Cumplir metas es emocionante, pero saber que s...</td>\n",
       "      <td>Cumplir metas es emocionante, pero saber que s...</td>\n",
       "      <td></td>\n",
       "      <td>None</td>\n",
       "      <td>2023-03-12 15:00:01</td>\n",
       "      <td>1678654801</td>\n",
       "      <td>None</td>\n",
       "      <td>https://scontent.fsyq7-1.fna.fbcdn.net/v/t39.3...</td>\n",
       "      <td>[]</td>\n",
       "      <td>...</td>\n",
       "      <td>None</td>\n",
       "      <td>None</td>\n",
       "      <td>None</td>\n",
       "      <td>2</td>\n",
       "      <td>None</td>\n",
       "      <td>204957802871103</td>\n",
       "      <td>None</td>\n",
       "      <td>None</td>\n",
       "      <td>[]</td>\n",
       "      <td>False</td>\n",
       "    </tr>\n",
       "  </tbody>\n",
       "</table>\n",
       "<p>5 rows × 50 columns</p>\n",
       "</div>"
      ],
      "text/plain": [
       "            post_id                                               text  \\\n",
       "0  6372559649444190  ¿Qué es lo que siempre vas a recordar de las e...   \n",
       "0  6372253112808177  Nos transformamos para seguir compartiéndote h...   \n",
       "0  6307937159239773  ¡Viví con pasión momentos únicos! Pasá un día ...   \n",
       "0  6372510159449139  ¡Dancing queen! Siente el ritmo con ABBA en vi...   \n",
       "0  6324244904275665  Cumplir metas es emocionante, pero saber que s...   \n",
       "\n",
       "                                           post_text shared_text  \\\n",
       "0  ¿Qué es lo que siempre vas a recordar de las e...               \n",
       "0  Nos transformamos para seguir compartiéndote h...               \n",
       "0  ¡Viví con pasión momentos únicos! Pasá un día ...               \n",
       "0  ¡Dancing queen! Siente el ritmo con ABBA en vi...               \n",
       "0  Cumplir metas es emocionante, pero saber que s...               \n",
       "\n",
       "  original_text                time   timestamp  \\\n",
       "0          None 2023-03-13 14:07:29  1678738049   \n",
       "0          None 2023-03-13 12:12:50  1678731170   \n",
       "0          None 2023-03-13 10:00:07  1678723207   \n",
       "0          None 2023-03-13 10:00:00  1678723200   \n",
       "0          None 2023-03-12 15:00:01  1678654801   \n",
       "\n",
       "                                               image  \\\n",
       "0  https://scontent.fsyq7-1.fna.fbcdn.net/v/t39.3...   \n",
       "0  https://scontent.fsyq7-1.fna.fbcdn.net/v/t39.3...   \n",
       "0  https://scontent.fsyq7-1.fna.fbcdn.net/v/t39.3...   \n",
       "0                                               None   \n",
       "0                                               None   \n",
       "\n",
       "                                    image_lowquality  \\\n",
       "0  https://scontent.fsyq7-1.fna.fbcdn.net/v/t39.3...   \n",
       "0  https://scontent.fsyq7-1.fna.fbcdn.net/v/t39.3...   \n",
       "0  https://scontent.fsyq7-1.fna.fbcdn.net/v/t39.3...   \n",
       "0  https://scontent.fsyq7-1.fna.fbcdn.net/v/t39.3...   \n",
       "0  https://scontent.fsyq7-1.fna.fbcdn.net/v/t39.3...   \n",
       "\n",
       "                                              images  ... reactors w3_fb_url  \\\n",
       "0  [https://scontent.fsyq7-1.fna.fbcdn.net/v/t39....  ...     None      None   \n",
       "0  [https://scontent.fsyq7-1.fna.fbcdn.net/v/t39....  ...     None      None   \n",
       "0  [https://scontent.fsyq7-1.fna.fbcdn.net/v/t39....  ...     None      None   \n",
       "0                                                 []  ...     None      None   \n",
       "0                                                 []  ...     None      None   \n",
       "\n",
       "  reactions reaction_count  with          page_id sharers          image_id  \\\n",
       "0      None              1  None  204957802871103    None  6372558372777651   \n",
       "0      None             26  None  204957802871103    None  6372252546141567   \n",
       "0      None              3  None  204957802871103    None  6307925489240940   \n",
       "0      None              4  None  204957802871103    None  6372506232782865   \n",
       "0      None              2  None  204957802871103    None              None   \n",
       "\n",
       "            image_ids was_live  \n",
       "0  [6372558372777651]    False  \n",
       "0  [6372252546141567]    False  \n",
       "0  [6307925489240940]    False  \n",
       "0  [6372506232782865]    False  \n",
       "0                  []    False  \n",
       "\n",
       "[5 rows x 50 columns]"
      ]
     },
     "execution_count": 17,
     "metadata": {},
     "output_type": "execute_result"
    }
   ],
   "source": [
    "# Display header of dataframe\n",
    "post_df_full.head()"
   ]
  },
  {
   "cell_type": "code",
   "execution_count": 18,
   "metadata": {
    "gather": {
     "logged": 1664507234730
    },
    "jupyter": {
     "outputs_hidden": false,
     "source_hidden": false
    },
    "nteract": {
     "transient": {
      "deleting": false
     }
    }
   },
   "outputs": [],
   "source": [
    "# Guarde el marco de datos en el archivo csv\n",
    "post_df_full.to_csv(r'fb_scrapped_data.csv', index = False)"
   ]
  },
  {
   "cell_type": "code",
   "execution_count": 8,
   "metadata": {
    "gather": {
     "logged": 1664507238095
    },
    "jupyter": {
     "outputs_hidden": false,
     "source_hidden": false
    },
    "nteract": {
     "transient": {
      "deleting": false
     }
    }
   },
   "outputs": [
    {
     "data": {
      "image/png": "[encoded data removed]",
      "text/plain": [
       "<Figure size 1440x720 with 1 Axes>"
      ]
     },
     "metadata": {
      "needs_background": "light"
     },
     "output_type": "display_data"
    }
   ],
   "source": [
    "# Realice un gráfico de líneas básico para visualizar la fecha y hora de la publicación frente a los Me gusta\n",
    "fig, ax = plt.subplots(figsize=(20, 10))\n",
    "ax.plot(post_df_full['time'], post_df_full['likes'], marker=\"o\")\n",
    "from matplotlib.dates import DateFormatter\n",
    "ax.xaxis.set_major_formatter(DateFormatter('%d-%m-%y %H:%M'))"
   ]
  },
  {
   "cell_type": "code",
   "execution_count": 35,
   "metadata": {
    "gather": {
     "logged": 1664505969010
    },
    "jupyter": {
     "outputs_hidden": false,
     "source_hidden": false
    },
    "nteract": {
     "transient": {
      "deleting": false
     }
    }
   },
   "outputs": [
    {
     "data": {
      "text/plain": [
       "0    ¿Qué es lo que siempre vas a recordar de las e...\n",
       "0    Nos transformamos para seguir compartiéndote h...\n",
       "0    ¡Viví con pasión momentos únicos! Pasá un día ...\n",
       "0    ¡Dancing queen! Siente el ritmo con ABBA en vi...\n",
       "0    Cumplir metas es emocionante, pero saber que s...\n",
       "0    Te entendemos, las cosas a veces no son fácile...\n",
       "0    Nos encanta complacerte con el mejor entrenami...\n",
       "0    Nos interesa que logrés tus metas, por eso apo...\n",
       "0    El talento es para disfrutarlo, por eso querem...\n",
       "0    Trabajamos para que disfrutés los beneficios d...\n",
       "0    Seguimos tranformándonos con soluciones que va...\n",
       "0    En BAC estamos comprometidos con la protección...\n",
       "0    Knowing me, knowing you... ¡sabemos que no pod...\n",
       "0    Disfrutá junto a nosotros del espectáculo de u...\n",
       "0    ¡Viví con pasión momentos únicos! Disfrutá de ...\n",
       "0    En BAC reimaginamos la banca para generar pros...\n",
       "0    Porque sabemos que querés vivir momentos lleno...\n",
       "0    De Italia a Costa Rica llega un artista que, a...\n",
       "0    Contribuimos al bienestar de las poblaciones q...\n",
       "0    Una excelente charla en donde se explica cómo ...\n",
       "0    “Siempre has lo correcto, da lo mejor de ti, t...\n",
       "0    En BAC hoy nos unimos para conmemorar a todas ...\n",
       "0    Nos llena de orgullo compartir espacios en don...\n",
       "0    En BAC trabajamos para traer el mejor entreten...\n",
       "0    Seguimos transformándonos en un banco cada vez...\n",
       "0    Te invitamos a que disfrutés con pasión nuestr...\n",
       "0    En BAC queremos que compartás momentos únicos ...\n",
       "0    Seguimos transformándonos para ofrecerte soluc...\n",
       "0    Queremos y trabajamos por tu bienestar. Si no ...\n",
       "0    Si contás con un negocio o querés emprender, s...\n",
       "0    Aportamos al desarrollo de una sociedad equita...\n",
       "0    Nos encanta complacerte con grandes emociones....\n",
       "0    Sin importar cómo se vean tus metas nosotros t...\n",
       "0    Porque nos encanta ayudarte y que sintás la il...\n",
       "0    Aportamos al desarrollo de una sociedad equita...\n",
       "0    Apoyamos iniciativas sociales que permitan que...\n",
       "Name: text, dtype: object"
      ]
     },
     "execution_count": 35,
     "metadata": {},
     "output_type": "execute_result"
    }
   ],
   "source": [
    "post_df_full['text']"
   ]
  },
  {
   "cell_type": "code",
   "execution_count": null,
   "metadata": {},
   "outputs": [],
   "source": []
  }
 ],
 "metadata": {
  "kernel_info": {
   "name": "python38-azureml"
  },
  "kernelspec": {
   "display_name": "Python 3",
   "language": "python",
   "name": "python3"
  },
  "language_info": {
   "codemirror_mode": {
    "name": "ipython",
    "version": 3
   },
   "file_extension": ".py",
   "mimetype": "text/x-python",
   "name": "python",
   "nbconvert_exporter": "python",
   "pygments_lexer": "ipython3",
   "version": "3.7.6"
  },
  "microsoft": {
   "host": {
    "AzureML": {
     "notebookHasBeenCompleted": true
    }
   }
  },
  "nteract": {
   "version": "nteract-front-end@1.0.0"
  }
 },
 "nbformat": 4,
 "nbformat_minor": 2
}
