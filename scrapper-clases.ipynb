{
 "cells": [
  {
   "cell_type": "markdown",
   "metadata": {
    "nteract": {
     "transient": {
      "deleting": false
     }
    }
   },
   "source": [
    "# Caso de uso: leer Facebook, obtener estadísticas y aplicar análisis de sentimiento"
   ]
  },
  {
   "cell_type": "code",
   "execution_count": 45,
   "metadata": {
    "gather": {
     "logged": 1664506037828
    },
    "jupyter": {
     "outputs_hidden": false,
     "source_hidden": false
    },
    "nteract": {
     "transient": {
      "deleting": false
     }
    }
   },
   "outputs": [],
   "source": [
    "from facebook_scraper import get_posts   #pip install facebook-scraper\n",
    "import pandas as pd\n",
    "import matplotlib.pyplot as plt\n",
    "import seaborn as sns"
   ]
  },
  {
   "cell_type": "code",
   "execution_count": 46,
   "metadata": {
    "gather": {
     "logged": 1664506040479
    },
    "jupyter": {
     "outputs_hidden": false,
     "source_hidden": false
    },
    "nteract": {
     "transient": {
      "deleting": false
     }
    }
   },
   "outputs": [],
   "source": [
    "# Inicialice el marco de datos para raspar la publicación de Facebook\n",
    "post_df_full = pd.DataFrame(columns = [])"
   ]
  },
  {
   "cell_type": "code",
   "execution_count": 47,
   "metadata": {
    "gather": {
     "logged": 1664507062167
    },
    "jupyter": {
     "outputs_hidden": false,
     "source_hidden": false
    },
    "nteract": {
     "transient": {
      "deleting": false
     }
    }
   },
   "outputs": [
    {
     "name": "stderr",
     "output_type": "stream",
     "text": [
      "c:\\Users\\jeanc\\anaconda3\\lib\\site-packages\\dateparser\\freshness_date_parser.py:76: PytzUsageWarning: The localize method is no longer necessary, as this time zone supports the fold attribute (PEP 495). For more details on migrating to a PEP 495-compliant implementation, see https://pytz-deprecation-shim.readthedocs.io/en/latest/migration.html\n",
      "  now = self.get_local_tz().localize(now)\n",
      "C:\\Users\\jeanc\\AppData\\Local\\Temp\\ipykernel_18000\\1137187544.py:6: FutureWarning: The frame.append method is deprecated and will be removed from pandas in a future version. Use pandas.concat instead.\n",
      "  post_df_full = post_df_full.append(fb_post_df)\n"
     ]
    },
    {
     "name": "stdout",
     "output_type": "stream",
     "text": [
      "6231271843623883 get\n"
     ]
    },
    {
     "name": "stderr",
     "output_type": "stream",
     "text": [
      "c:\\Users\\jeanc\\anaconda3\\lib\\site-packages\\dateparser\\freshness_date_parser.py:76: PytzUsageWarning: The localize method is no longer necessary, as this time zone supports the fold attribute (PEP 495). For more details on migrating to a PEP 495-compliant implementation, see https://pytz-deprecation-shim.readthedocs.io/en/latest/migration.html\n",
      "  now = self.get_local_tz().localize(now)\n",
      "C:\\Users\\jeanc\\AppData\\Local\\Temp\\ipykernel_18000\\1137187544.py:6: FutureWarning: The frame.append method is deprecated and will be removed from pandas in a future version. Use pandas.concat instead.\n",
      "  post_df_full = post_df_full.append(fb_post_df)\n"
     ]
    },
    {
     "name": "stdout",
     "output_type": "stream",
     "text": [
      "6228413480576386 get\n"
     ]
    },
    {
     "name": "stderr",
     "output_type": "stream",
     "text": [
      "c:\\Users\\jeanc\\anaconda3\\lib\\site-packages\\dateparser\\freshness_date_parser.py:76: PytzUsageWarning: The localize method is no longer necessary, as this time zone supports the fold attribute (PEP 495). For more details on migrating to a PEP 495-compliant implementation, see https://pytz-deprecation-shim.readthedocs.io/en/latest/migration.html\n",
      "  now = self.get_local_tz().localize(now)\n",
      "C:\\Users\\jeanc\\AppData\\Local\\Temp\\ipykernel_18000\\1137187544.py:6: FutureWarning: The frame.append method is deprecated and will be removed from pandas in a future version. Use pandas.concat instead.\n",
      "  post_df_full = post_df_full.append(fb_post_df)\n"
     ]
    },
    {
     "name": "stdout",
     "output_type": "stream",
     "text": [
      "6215040711913663 get\n"
     ]
    },
    {
     "name": "stderr",
     "output_type": "stream",
     "text": [
      "c:\\Users\\jeanc\\anaconda3\\lib\\site-packages\\dateparser\\freshness_date_parser.py:76: PytzUsageWarning: The localize method is no longer necessary, as this time zone supports the fold attribute (PEP 495). For more details on migrating to a PEP 495-compliant implementation, see https://pytz-deprecation-shim.readthedocs.io/en/latest/migration.html\n",
      "  now = self.get_local_tz().localize(now)\n",
      "C:\\Users\\jeanc\\AppData\\Local\\Temp\\ipykernel_18000\\1137187544.py:6: FutureWarning: The frame.append method is deprecated and will be removed from pandas in a future version. Use pandas.concat instead.\n",
      "  post_df_full = post_df_full.append(fb_post_df)\n"
     ]
    },
    {
     "name": "stdout",
     "output_type": "stream",
     "text": [
      "6208937882523946 get\n"
     ]
    },
    {
     "name": "stderr",
     "output_type": "stream",
     "text": [
      "c:\\Users\\jeanc\\anaconda3\\lib\\site-packages\\dateparser\\freshness_date_parser.py:76: PytzUsageWarning: The localize method is no longer necessary, as this time zone supports the fold attribute (PEP 495). For more details on migrating to a PEP 495-compliant implementation, see https://pytz-deprecation-shim.readthedocs.io/en/latest/migration.html\n",
      "  now = self.get_local_tz().localize(now)\n",
      "C:\\Users\\jeanc\\AppData\\Local\\Temp\\ipykernel_18000\\1137187544.py:6: FutureWarning: The frame.append method is deprecated and will be removed from pandas in a future version. Use pandas.concat instead.\n",
      "  post_df_full = post_df_full.append(fb_post_df)\n"
     ]
    },
    {
     "name": "stdout",
     "output_type": "stream",
     "text": [
      "6208437629240638 get\n"
     ]
    },
    {
     "name": "stderr",
     "output_type": "stream",
     "text": [
      "c:\\Users\\jeanc\\anaconda3\\lib\\site-packages\\dateparser\\freshness_date_parser.py:76: PytzUsageWarning: The localize method is no longer necessary, as this time zone supports the fold attribute (PEP 495). For more details on migrating to a PEP 495-compliant implementation, see https://pytz-deprecation-shim.readthedocs.io/en/latest/migration.html\n",
      "  now = self.get_local_tz().localize(now)\n",
      "C:\\Users\\jeanc\\AppData\\Local\\Temp\\ipykernel_18000\\1137187544.py:6: FutureWarning: The frame.append method is deprecated and will be removed from pandas in a future version. Use pandas.concat instead.\n",
      "  post_df_full = post_df_full.append(fb_post_df)\n"
     ]
    },
    {
     "name": "stdout",
     "output_type": "stream",
     "text": [
      "6197902063627528 get\n"
     ]
    },
    {
     "name": "stderr",
     "output_type": "stream",
     "text": [
      "c:\\Users\\jeanc\\anaconda3\\lib\\site-packages\\dateparser\\freshness_date_parser.py:76: PytzUsageWarning: The localize method is no longer necessary, as this time zone supports the fold attribute (PEP 495). For more details on migrating to a PEP 495-compliant implementation, see https://pytz-deprecation-shim.readthedocs.io/en/latest/migration.html\n",
      "  now = self.get_local_tz().localize(now)\n",
      "C:\\Users\\jeanc\\AppData\\Local\\Temp\\ipykernel_18000\\1137187544.py:6: FutureWarning: The frame.append method is deprecated and will be removed from pandas in a future version. Use pandas.concat instead.\n",
      "  post_df_full = post_df_full.append(fb_post_df)\n"
     ]
    },
    {
     "name": "stdout",
     "output_type": "stream",
     "text": [
      "6178410538910014 get\n"
     ]
    },
    {
     "name": "stderr",
     "output_type": "stream",
     "text": [
      "C:\\Users\\jeanc\\AppData\\Local\\Temp\\ipykernel_18000\\1137187544.py:6: FutureWarning: The frame.append method is deprecated and will be removed from pandas in a future version. Use pandas.concat instead.\n",
      "  post_df_full = post_df_full.append(fb_post_df)\n"
     ]
    },
    {
     "name": "stdout",
     "output_type": "stream",
     "text": [
      "6178283758922692 get\n"
     ]
    },
    {
     "name": "stderr",
     "output_type": "stream",
     "text": [
      "C:\\Users\\jeanc\\AppData\\Local\\Temp\\ipykernel_18000\\1137187544.py:6: FutureWarning: The frame.append method is deprecated and will be removed from pandas in a future version. Use pandas.concat instead.\n",
      "  post_df_full = post_df_full.append(fb_post_df)\n"
     ]
    },
    {
     "name": "stdout",
     "output_type": "stream",
     "text": [
      "6177946375623097 get\n"
     ]
    },
    {
     "name": "stderr",
     "output_type": "stream",
     "text": [
      "c:\\Users\\jeanc\\anaconda3\\lib\\site-packages\\dateparser\\freshness_date_parser.py:76: PytzUsageWarning: The localize method is no longer necessary, as this time zone supports the fold attribute (PEP 495). For more details on migrating to a PEP 495-compliant implementation, see https://pytz-deprecation-shim.readthedocs.io/en/latest/migration.html\n",
      "  now = self.get_local_tz().localize(now)\n",
      "C:\\Users\\jeanc\\AppData\\Local\\Temp\\ipykernel_18000\\1137187544.py:6: FutureWarning: The frame.append method is deprecated and will be removed from pandas in a future version. Use pandas.concat instead.\n",
      "  post_df_full = post_df_full.append(fb_post_df)\n"
     ]
    },
    {
     "name": "stdout",
     "output_type": "stream",
     "text": [
      "6176022099148858 get\n"
     ]
    },
    {
     "name": "stderr",
     "output_type": "stream",
     "text": [
      "C:\\Users\\jeanc\\AppData\\Local\\Temp\\ipykernel_18000\\1137187544.py:6: FutureWarning: The frame.append method is deprecated and will be removed from pandas in a future version. Use pandas.concat instead.\n",
      "  post_df_full = post_df_full.append(fb_post_df)\n"
     ]
    },
    {
     "name": "stdout",
     "output_type": "stream",
     "text": [
      "6159700744051164 get\n"
     ]
    },
    {
     "name": "stderr",
     "output_type": "stream",
     "text": [
      "c:\\Users\\jeanc\\anaconda3\\lib\\site-packages\\dateparser\\freshness_date_parser.py:76: PytzUsageWarning: The localize method is no longer necessary, as this time zone supports the fold attribute (PEP 495). For more details on migrating to a PEP 495-compliant implementation, see https://pytz-deprecation-shim.readthedocs.io/en/latest/migration.html\n",
      "  now = self.get_local_tz().localize(now)\n",
      "C:\\Users\\jeanc\\AppData\\Local\\Temp\\ipykernel_18000\\1137187544.py:6: FutureWarning: The frame.append method is deprecated and will be removed from pandas in a future version. Use pandas.concat instead.\n",
      "  post_df_full = post_df_full.append(fb_post_df)\n"
     ]
    },
    {
     "name": "stdout",
     "output_type": "stream",
     "text": [
      "6152834834800918 get\n"
     ]
    },
    {
     "name": "stderr",
     "output_type": "stream",
     "text": [
      "c:\\Users\\jeanc\\anaconda3\\lib\\site-packages\\dateparser\\freshness_date_parser.py:76: PytzUsageWarning: The localize method is no longer necessary, as this time zone supports the fold attribute (PEP 495). For more details on migrating to a PEP 495-compliant implementation, see https://pytz-deprecation-shim.readthedocs.io/en/latest/migration.html\n",
      "  now = self.get_local_tz().localize(now)\n",
      "C:\\Users\\jeanc\\AppData\\Local\\Temp\\ipykernel_18000\\1137187544.py:6: FutureWarning: The frame.append method is deprecated and will be removed from pandas in a future version. Use pandas.concat instead.\n",
      "  post_df_full = post_df_full.append(fb_post_df)\n"
     ]
    },
    {
     "name": "stdout",
     "output_type": "stream",
     "text": [
      "6141876955896706 get\n"
     ]
    },
    {
     "name": "stderr",
     "output_type": "stream",
     "text": [
      "c:\\Users\\jeanc\\anaconda3\\lib\\site-packages\\dateparser\\freshness_date_parser.py:76: PytzUsageWarning: The localize method is no longer necessary, as this time zone supports the fold attribute (PEP 495). For more details on migrating to a PEP 495-compliant implementation, see https://pytz-deprecation-shim.readthedocs.io/en/latest/migration.html\n",
      "  now = self.get_local_tz().localize(now)\n",
      "C:\\Users\\jeanc\\AppData\\Local\\Temp\\ipykernel_18000\\1137187544.py:6: FutureWarning: The frame.append method is deprecated and will be removed from pandas in a future version. Use pandas.concat instead.\n",
      "  post_df_full = post_df_full.append(fb_post_df)\n"
     ]
    },
    {
     "name": "stdout",
     "output_type": "stream",
     "text": [
      "6125466404204428 get\n"
     ]
    },
    {
     "name": "stderr",
     "output_type": "stream",
     "text": [
      "c:\\Users\\jeanc\\anaconda3\\lib\\site-packages\\dateparser\\freshness_date_parser.py:76: PytzUsageWarning: The localize method is no longer necessary, as this time zone supports the fold attribute (PEP 495). For more details on migrating to a PEP 495-compliant implementation, see https://pytz-deprecation-shim.readthedocs.io/en/latest/migration.html\n",
      "  now = self.get_local_tz().localize(now)\n",
      "C:\\Users\\jeanc\\AppData\\Local\\Temp\\ipykernel_18000\\1137187544.py:6: FutureWarning: The frame.append method is deprecated and will be removed from pandas in a future version. Use pandas.concat instead.\n",
      "  post_df_full = post_df_full.append(fb_post_df)\n"
     ]
    },
    {
     "name": "stdout",
     "output_type": "stream",
     "text": [
      "6110642209020181 get\n"
     ]
    },
    {
     "name": "stderr",
     "output_type": "stream",
     "text": [
      "c:\\Users\\jeanc\\anaconda3\\lib\\site-packages\\dateparser\\freshness_date_parser.py:76: PytzUsageWarning: The localize method is no longer necessary, as this time zone supports the fold attribute (PEP 495). For more details on migrating to a PEP 495-compliant implementation, see https://pytz-deprecation-shim.readthedocs.io/en/latest/migration.html\n",
      "  now = self.get_local_tz().localize(now)\n",
      "C:\\Users\\jeanc\\AppData\\Local\\Temp\\ipykernel_18000\\1137187544.py:6: FutureWarning: The frame.append method is deprecated and will be removed from pandas in a future version. Use pandas.concat instead.\n",
      "  post_df_full = post_df_full.append(fb_post_df)\n"
     ]
    },
    {
     "name": "stdout",
     "output_type": "stream",
     "text": [
      "6104826249601777 get\n"
     ]
    },
    {
     "name": "stderr",
     "output_type": "stream",
     "text": [
      "C:\\Users\\jeanc\\AppData\\Local\\Temp\\ipykernel_18000\\1137187544.py:6: FutureWarning: The frame.append method is deprecated and will be removed from pandas in a future version. Use pandas.concat instead.\n",
      "  post_df_full = post_df_full.append(fb_post_df)\n"
     ]
    },
    {
     "name": "stdout",
     "output_type": "stream",
     "text": [
      "6100710646680004 get\n"
     ]
    },
    {
     "name": "stderr",
     "output_type": "stream",
     "text": [
      "c:\\Users\\jeanc\\anaconda3\\lib\\site-packages\\dateparser\\freshness_date_parser.py:76: PytzUsageWarning: The localize method is no longer necessary, as this time zone supports the fold attribute (PEP 495). For more details on migrating to a PEP 495-compliant implementation, see https://pytz-deprecation-shim.readthedocs.io/en/latest/migration.html\n",
      "  now = self.get_local_tz().localize(now)\n",
      "C:\\Users\\jeanc\\AppData\\Local\\Temp\\ipykernel_18000\\1137187544.py:6: FutureWarning: The frame.append method is deprecated and will be removed from pandas in a future version. Use pandas.concat instead.\n",
      "  post_df_full = post_df_full.append(fb_post_df)\n"
     ]
    },
    {
     "name": "stdout",
     "output_type": "stream",
     "text": [
      "6094895707261498 get\n"
     ]
    },
    {
     "name": "stderr",
     "output_type": "stream",
     "text": [
      "c:\\Users\\jeanc\\anaconda3\\lib\\site-packages\\dateparser\\freshness_date_parser.py:76: PytzUsageWarning: The localize method is no longer necessary, as this time zone supports the fold attribute (PEP 495). For more details on migrating to a PEP 495-compliant implementation, see https://pytz-deprecation-shim.readthedocs.io/en/latest/migration.html\n",
      "  now = self.get_local_tz().localize(now)\n",
      "C:\\Users\\jeanc\\AppData\\Local\\Temp\\ipykernel_18000\\1137187544.py:6: FutureWarning: The frame.append method is deprecated and will be removed from pandas in a future version. Use pandas.concat instead.\n",
      "  post_df_full = post_df_full.append(fb_post_df)\n"
     ]
    },
    {
     "name": "stdout",
     "output_type": "stream",
     "text": [
      "6087937257957343 get\n"
     ]
    },
    {
     "name": "stderr",
     "output_type": "stream",
     "text": [
      "c:\\Users\\jeanc\\anaconda3\\lib\\site-packages\\dateparser\\freshness_date_parser.py:76: PytzUsageWarning: The localize method is no longer necessary, as this time zone supports the fold attribute (PEP 495). For more details on migrating to a PEP 495-compliant implementation, see https://pytz-deprecation-shim.readthedocs.io/en/latest/migration.html\n",
      "  now = self.get_local_tz().localize(now)\n",
      "C:\\Users\\jeanc\\AppData\\Local\\Temp\\ipykernel_18000\\1137187544.py:6: FutureWarning: The frame.append method is deprecated and will be removed from pandas in a future version. Use pandas.concat instead.\n",
      "  post_df_full = post_df_full.append(fb_post_df)\n"
     ]
    },
    {
     "name": "stdout",
     "output_type": "stream",
     "text": [
      "6087579974659738 get\n"
     ]
    },
    {
     "name": "stderr",
     "output_type": "stream",
     "text": [
      "c:\\Users\\jeanc\\anaconda3\\lib\\site-packages\\dateparser\\freshness_date_parser.py:76: PytzUsageWarning: The localize method is no longer necessary, as this time zone supports the fold attribute (PEP 495). For more details on migrating to a PEP 495-compliant implementation, see https://pytz-deprecation-shim.readthedocs.io/en/latest/migration.html\n",
      "  now = self.get_local_tz().localize(now)\n",
      "C:\\Users\\jeanc\\AppData\\Local\\Temp\\ipykernel_18000\\1137187544.py:6: FutureWarning: The frame.append method is deprecated and will be removed from pandas in a future version. Use pandas.concat instead.\n",
      "  post_df_full = post_df_full.append(fb_post_df)\n"
     ]
    },
    {
     "name": "stdout",
     "output_type": "stream",
     "text": [
      "6084946241589778 get\n"
     ]
    },
    {
     "name": "stderr",
     "output_type": "stream",
     "text": [
      "C:\\Users\\jeanc\\AppData\\Local\\Temp\\ipykernel_18000\\1137187544.py:6: FutureWarning: The frame.append method is deprecated and will be removed from pandas in a future version. Use pandas.concat instead.\n",
      "  post_df_full = post_df_full.append(fb_post_df)\n"
     ]
    },
    {
     "name": "stdout",
     "output_type": "stream",
     "text": [
      "6082154388535630 get\n"
     ]
    },
    {
     "name": "stderr",
     "output_type": "stream",
     "text": [
      "C:\\Users\\jeanc\\AppData\\Local\\Temp\\ipykernel_18000\\1137187544.py:6: FutureWarning: The frame.append method is deprecated and will be removed from pandas in a future version. Use pandas.concat instead.\n",
      "  post_df_full = post_df_full.append(fb_post_df)\n"
     ]
    },
    {
     "name": "stdout",
     "output_type": "stream",
     "text": [
      "6082088135208922 get\n"
     ]
    },
    {
     "name": "stderr",
     "output_type": "stream",
     "text": [
      "C:\\Users\\jeanc\\AppData\\Local\\Temp\\ipykernel_18000\\1137187544.py:6: FutureWarning: The frame.append method is deprecated and will be removed from pandas in a future version. Use pandas.concat instead.\n",
      "  post_df_full = post_df_full.append(fb_post_df)\n"
     ]
    },
    {
     "name": "stdout",
     "output_type": "stream",
     "text": [
      "6082039108547158 get\n"
     ]
    },
    {
     "name": "stderr",
     "output_type": "stream",
     "text": [
      "C:\\Users\\jeanc\\AppData\\Local\\Temp\\ipykernel_18000\\1137187544.py:6: FutureWarning: The frame.append method is deprecated and will be removed from pandas in a future version. Use pandas.concat instead.\n",
      "  post_df_full = post_df_full.append(fb_post_df)\n"
     ]
    },
    {
     "name": "stdout",
     "output_type": "stream",
     "text": [
      "6081959475221788 get\n"
     ]
    },
    {
     "name": "stderr",
     "output_type": "stream",
     "text": [
      "C:\\Users\\jeanc\\AppData\\Local\\Temp\\ipykernel_18000\\1137187544.py:6: FutureWarning: The frame.append method is deprecated and will be removed from pandas in a future version. Use pandas.concat instead.\n",
      "  post_df_full = post_df_full.append(fb_post_df)\n"
     ]
    },
    {
     "name": "stdout",
     "output_type": "stream",
     "text": [
      "6081901235227612 get\n"
     ]
    },
    {
     "name": "stderr",
     "output_type": "stream",
     "text": [
      "c:\\Users\\jeanc\\anaconda3\\lib\\site-packages\\dateparser\\freshness_date_parser.py:76: PytzUsageWarning: The localize method is no longer necessary, as this time zone supports the fold attribute (PEP 495). For more details on migrating to a PEP 495-compliant implementation, see https://pytz-deprecation-shim.readthedocs.io/en/latest/migration.html\n",
      "  now = self.get_local_tz().localize(now)\n",
      "C:\\Users\\jeanc\\AppData\\Local\\Temp\\ipykernel_18000\\1137187544.py:6: FutureWarning: The frame.append method is deprecated and will be removed from pandas in a future version. Use pandas.concat instead.\n",
      "  post_df_full = post_df_full.append(fb_post_df)\n"
     ]
    },
    {
     "name": "stdout",
     "output_type": "stream",
     "text": [
      "6077332939017775 get\n"
     ]
    },
    {
     "name": "stderr",
     "output_type": "stream",
     "text": [
      "c:\\Users\\jeanc\\anaconda3\\lib\\site-packages\\dateparser\\freshness_date_parser.py:76: PytzUsageWarning: The localize method is no longer necessary, as this time zone supports the fold attribute (PEP 495). For more details on migrating to a PEP 495-compliant implementation, see https://pytz-deprecation-shim.readthedocs.io/en/latest/migration.html\n",
      "  now = self.get_local_tz().localize(now)\n",
      "C:\\Users\\jeanc\\AppData\\Local\\Temp\\ipykernel_18000\\1137187544.py:6: FutureWarning: The frame.append method is deprecated and will be removed from pandas in a future version. Use pandas.concat instead.\n",
      "  post_df_full = post_df_full.append(fb_post_df)\n"
     ]
    },
    {
     "name": "stdout",
     "output_type": "stream",
     "text": [
      "6065983016819434 get\n"
     ]
    },
    {
     "name": "stderr",
     "output_type": "stream",
     "text": [
      "c:\\Users\\jeanc\\anaconda3\\lib\\site-packages\\dateparser\\freshness_date_parser.py:76: PytzUsageWarning: The localize method is no longer necessary, as this time zone supports the fold attribute (PEP 495). For more details on migrating to a PEP 495-compliant implementation, see https://pytz-deprecation-shim.readthedocs.io/en/latest/migration.html\n",
      "  now = self.get_local_tz().localize(now)\n",
      "C:\\Users\\jeanc\\AppData\\Local\\Temp\\ipykernel_18000\\1137187544.py:6: FutureWarning: The frame.append method is deprecated and will be removed from pandas in a future version. Use pandas.concat instead.\n",
      "  post_df_full = post_df_full.append(fb_post_df)\n"
     ]
    },
    {
     "name": "stdout",
     "output_type": "stream",
     "text": [
      "5966050133479390 get\n"
     ]
    },
    {
     "name": "stderr",
     "output_type": "stream",
     "text": [
      "c:\\Users\\jeanc\\anaconda3\\lib\\site-packages\\dateparser\\freshness_date_parser.py:76: PytzUsageWarning: The localize method is no longer necessary, as this time zone supports the fold attribute (PEP 495). For more details on migrating to a PEP 495-compliant implementation, see https://pytz-deprecation-shim.readthedocs.io/en/latest/migration.html\n",
      "  now = self.get_local_tz().localize(now)\n",
      "C:\\Users\\jeanc\\AppData\\Local\\Temp\\ipykernel_18000\\1137187544.py:6: FutureWarning: The frame.append method is deprecated and will be removed from pandas in a future version. Use pandas.concat instead.\n",
      "  post_df_full = post_df_full.append(fb_post_df)\n"
     ]
    },
    {
     "name": "stdout",
     "output_type": "stream",
     "text": [
      "5946525498765187 get\n"
     ]
    },
    {
     "name": "stderr",
     "output_type": "stream",
     "text": [
      "c:\\Users\\jeanc\\anaconda3\\lib\\site-packages\\dateparser\\freshness_date_parser.py:76: PytzUsageWarning: The localize method is no longer necessary, as this time zone supports the fold attribute (PEP 495). For more details on migrating to a PEP 495-compliant implementation, see https://pytz-deprecation-shim.readthedocs.io/en/latest/migration.html\n",
      "  now = self.get_local_tz().localize(now)\n",
      "C:\\Users\\jeanc\\AppData\\Local\\Temp\\ipykernel_18000\\1137187544.py:6: FutureWarning: The frame.append method is deprecated and will be removed from pandas in a future version. Use pandas.concat instead.\n",
      "  post_df_full = post_df_full.append(fb_post_df)\n"
     ]
    },
    {
     "name": "stdout",
     "output_type": "stream",
     "text": [
      "5938254159592321 get\n"
     ]
    },
    {
     "name": "stderr",
     "output_type": "stream",
     "text": [
      "C:\\Users\\jeanc\\AppData\\Local\\Temp\\ipykernel_18000\\1137187544.py:6: FutureWarning: The frame.append method is deprecated and will be removed from pandas in a future version. Use pandas.concat instead.\n",
      "  post_df_full = post_df_full.append(fb_post_df)\n"
     ]
    },
    {
     "name": "stdout",
     "output_type": "stream",
     "text": [
      "5932605046823899 get\n"
     ]
    },
    {
     "name": "stderr",
     "output_type": "stream",
     "text": [
      "C:\\Users\\jeanc\\AppData\\Local\\Temp\\ipykernel_18000\\1137187544.py:6: FutureWarning: The frame.append method is deprecated and will be removed from pandas in a future version. Use pandas.concat instead.\n",
      "  post_df_full = post_df_full.append(fb_post_df)\n"
     ]
    },
    {
     "name": "stdout",
     "output_type": "stream",
     "text": [
      "5921190411298696 get\n"
     ]
    },
    {
     "name": "stderr",
     "output_type": "stream",
     "text": [
      "C:\\Users\\jeanc\\AppData\\Local\\Temp\\ipykernel_18000\\1137187544.py:6: FutureWarning: The frame.append method is deprecated and will be removed from pandas in a future version. Use pandas.concat instead.\n",
      "  post_df_full = post_df_full.append(fb_post_df)\n"
     ]
    },
    {
     "name": "stdout",
     "output_type": "stream",
     "text": [
      "5915864221831315 get\n"
     ]
    },
    {
     "name": "stderr",
     "output_type": "stream",
     "text": [
      "C:\\Users\\jeanc\\AppData\\Local\\Temp\\ipykernel_18000\\1137187544.py:6: FutureWarning: The frame.append method is deprecated and will be removed from pandas in a future version. Use pandas.concat instead.\n",
      "  post_df_full = post_df_full.append(fb_post_df)\n"
     ]
    },
    {
     "name": "stdout",
     "output_type": "stream",
     "text": [
      "5914497148634689 get\n"
     ]
    },
    {
     "name": "stderr",
     "output_type": "stream",
     "text": [
      "c:\\Users\\jeanc\\anaconda3\\lib\\site-packages\\dateparser\\freshness_date_parser.py:76: PytzUsageWarning: The localize method is no longer necessary, as this time zone supports the fold attribute (PEP 495). For more details on migrating to a PEP 495-compliant implementation, see https://pytz-deprecation-shim.readthedocs.io/en/latest/migration.html\n",
      "  now = self.get_local_tz().localize(now)\n"
     ]
    },
    {
     "name": "stdout",
     "output_type": "stream",
     "text": [
      "5886949091389495 get\n"
     ]
    },
    {
     "name": "stderr",
     "output_type": "stream",
     "text": [
      "C:\\Users\\jeanc\\AppData\\Local\\Temp\\ipykernel_18000\\1137187544.py:6: FutureWarning: The frame.append method is deprecated and will be removed from pandas in a future version. Use pandas.concat instead.\n",
      "  post_df_full = post_df_full.append(fb_post_df)\n"
     ]
    }
   ],
   "source": [
    "# Comience a recopilar datos de publicaciones de Facebook mediante la biblioteca facebook_scraper\n",
    "for post in get_posts('nintendo',extra_info=True, pages=10, options={\"comments\": True,\"reactors\": True}):\n",
    "    post_entry = post\n",
    "    fb_post_df = pd.DataFrame.from_dict(post_entry, orient='index')\n",
    "    fb_post_df = fb_post_df.transpose()\n",
    "    post_df_full = post_df_full.append(fb_post_df)\n",
    "    print(post['post_id']+' get')"
   ]
  },
  {
   "cell_type": "code",
   "execution_count": 48,
   "metadata": {
    "gather": {
     "logged": 1664507213842
    },
    "jupyter": {
     "outputs_hidden": false,
     "source_hidden": false
    },
    "nteract": {
     "transient": {
      "deleting": false
     }
    }
   },
   "outputs": [
    {
     "name": "stdout",
     "output_type": "stream",
     "text": [
      "<class 'pandas.core.frame.DataFrame'>\n",
      "Int64Index: 36 entries, 0 to 0\n",
      "Data columns (total 51 columns):\n",
      " #   Column                         Non-Null Count  Dtype         \n",
      "---  ------                         --------------  -----         \n",
      " 0   post_id                        36 non-null     object        \n",
      " 1   text                           35 non-null     object        \n",
      " 2   post_text                      35 non-null     object        \n",
      " 3   shared_text                    34 non-null     object        \n",
      " 4   original_text                  0 non-null      object        \n",
      " 5   time                           36 non-null     datetime64[ns]\n",
      " 6   timestamp                      36 non-null     object        \n",
      " 7   image                          19 non-null     object        \n",
      " 8   image_lowquality               36 non-null     object        \n",
      " 9   images                         36 non-null     object        \n",
      " 10  images_description             36 non-null     object        \n",
      " 11  images_lowquality              36 non-null     object        \n",
      " 12  images_lowquality_description  36 non-null     object        \n",
      " 13  video                          16 non-null     object        \n",
      " 14  video_duration_seconds         0 non-null      object        \n",
      " 15  video_height                   0 non-null      object        \n",
      " 16  video_id                       16 non-null     object        \n",
      " 17  video_quality                  0 non-null      object        \n",
      " 18  video_size_MB                  0 non-null      object        \n",
      " 19  video_thumbnail                16 non-null     object        \n",
      " 20  video_watches                  0 non-null      object        \n",
      " 21  video_width                    0 non-null      object        \n",
      " 22  likes                          36 non-null     object        \n",
      " 23  comments                       36 non-null     object        \n",
      " 24  shares                         36 non-null     object        \n",
      " 25  post_url                       36 non-null     object        \n",
      " 26  link                           18 non-null     object        \n",
      " 27  links                          36 non-null     object        \n",
      " 28  user_id                        36 non-null     object        \n",
      " 29  username                       36 non-null     object        \n",
      " 30  user_url                       36 non-null     object        \n",
      " 31  is_live                        36 non-null     object        \n",
      " 32  factcheck                      0 non-null      object        \n",
      " 33  shared_post_id                 3 non-null      object        \n",
      " 34  shared_time                    3 non-null      object        \n",
      " 35  shared_user_id                 3 non-null      object        \n",
      " 36  shared_username                3 non-null      object        \n",
      " 37  shared_post_url                3 non-null      object        \n",
      " 38  available                      36 non-null     object        \n",
      " 39  comments_full                  36 non-null     object        \n",
      " 40  reactors                       0 non-null      object        \n",
      " 41  w3_fb_url                      0 non-null      object        \n",
      " 42  reactions                      0 non-null      object        \n",
      " 43  reaction_count                 36 non-null     object        \n",
      " 44  with                           7 non-null      object        \n",
      " 45  page_id                        36 non-null     object        \n",
      " 46  sharers                        0 non-null      object        \n",
      " 47  image_id                       18 non-null     object        \n",
      " 48  image_ids                      36 non-null     object        \n",
      " 49  was_live                       36 non-null     object        \n",
      " 50  header                         7 non-null      object        \n",
      "dtypes: datetime64[ns](1), object(50)\n",
      "memory usage: 14.6+ KB\n"
     ]
    }
   ],
   "source": [
    "# Verifique la información del marco de datos, se están raspando 47 columnas de datos de la publicación de Facebook\n",
    "post_df_full.info()"
   ]
  },
  {
   "cell_type": "code",
   "execution_count": 49,
   "metadata": {
    "gather": {
     "logged": 1664507218503
    },
    "jupyter": {
     "outputs_hidden": false,
     "source_hidden": false
    },
    "nteract": {
     "transient": {
      "deleting": false
     }
    }
   },
   "outputs": [],
   "source": [
    "post_df_full.to_csv(r'nintendo_facebook_post.csv', sep=';', encoding='utf-8', header='true')"
   ]
  },
  {
   "cell_type": "code",
   "execution_count": 50,
   "metadata": {
    "gather": {
     "logged": 1664503847941
    },
    "jupyter": {
     "outputs_hidden": false,
     "source_hidden": false
    },
    "nteract": {
     "transient": {
      "deleting": false
     }
    }
   },
   "outputs": [],
   "source": [
    "post_df_full_clean = post_df_full"
   ]
  },
  {
   "cell_type": "code",
   "execution_count": 51,
   "metadata": {
    "gather": {
     "logged": 1664503870185
    },
    "jupyter": {
     "outputs_hidden": false,
     "source_hidden": false
    },
    "nteract": {
     "transient": {
      "deleting": false
     }
    }
   },
   "outputs": [
    {
     "data": {
      "text/html": [
       "<div>\n",
       "<style scoped>\n",
       "    .dataframe tbody tr th:only-of-type {\n",
       "        vertical-align: middle;\n",
       "    }\n",
       "\n",
       "    .dataframe tbody tr th {\n",
       "        vertical-align: top;\n",
       "    }\n",
       "\n",
       "    .dataframe thead th {\n",
       "        text-align: right;\n",
       "    }\n",
       "</style>\n",
       "<table border=\"1\" class=\"dataframe\">\n",
       "  <thead>\n",
       "    <tr style=\"text-align: right;\">\n",
       "      <th></th>\n",
       "      <th>post_id</th>\n",
       "      <th>text</th>\n",
       "      <th>post_text</th>\n",
       "      <th>shared_text</th>\n",
       "      <th>original_text</th>\n",
       "      <th>time</th>\n",
       "      <th>timestamp</th>\n",
       "      <th>image</th>\n",
       "      <th>image_lowquality</th>\n",
       "      <th>images</th>\n",
       "      <th>...</th>\n",
       "      <th>w3_fb_url</th>\n",
       "      <th>reactions</th>\n",
       "      <th>reaction_count</th>\n",
       "      <th>with</th>\n",
       "      <th>page_id</th>\n",
       "      <th>sharers</th>\n",
       "      <th>image_id</th>\n",
       "      <th>image_ids</th>\n",
       "      <th>was_live</th>\n",
       "      <th>header</th>\n",
       "    </tr>\n",
       "  </thead>\n",
       "  <tbody>\n",
       "    <tr>\n",
       "      <th>0</th>\n",
       "      <td>6231271843623883</td>\n",
       "      <td>Get an introduction to Link’s new abilities in...</td>\n",
       "      <td>Get an introduction to Link’s new abilities in...</td>\n",
       "      <td></td>\n",
       "      <td>None</td>\n",
       "      <td>2023-03-28 08:16:22</td>\n",
       "      <td>1680012982</td>\n",
       "      <td>None</td>\n",
       "      <td>https://scontent.fsjo3-1.fna.fbcdn.net/v/t15.5...</td>\n",
       "      <td>[]</td>\n",
       "      <td>...</td>\n",
       "      <td>None</td>\n",
       "      <td>None</td>\n",
       "      <td>1193</td>\n",
       "      <td>[{'name': 'The Legend of Zelda', 'link': '/Leg...</td>\n",
       "      <td>119240841493711</td>\n",
       "      <td>None</td>\n",
       "      <td>None</td>\n",
       "      <td>[]</td>\n",
       "      <td>False</td>\n",
       "      <td>Nintendo of America</td>\n",
       "    </tr>\n",
       "    <tr>\n",
       "      <th>0</th>\n",
       "      <td>6228413480576386</td>\n",
       "      <td>Join The Legend of #Zelda series producer, Eij...</td>\n",
       "      <td>Join The Legend of #Zelda series producer, Eij...</td>\n",
       "      <td></td>\n",
       "      <td>None</td>\n",
       "      <td>2023-03-27 08:26:22</td>\n",
       "      <td>1679927182</td>\n",
       "      <td>https://scontent.fsjo3-1.fna.fbcdn.net/v/t39.3...</td>\n",
       "      <td>https://scontent.fsjo3-1.fna.fbcdn.net/v/t39.3...</td>\n",
       "      <td>[https://scontent.fsjo3-1.fna.fbcdn.net/v/t39....</td>\n",
       "      <td>...</td>\n",
       "      <td>None</td>\n",
       "      <td>None</td>\n",
       "      <td>2035</td>\n",
       "      <td>[{'name': 'The Legend of Zelda', 'link': '/Leg...</td>\n",
       "      <td>119240841493711</td>\n",
       "      <td>None</td>\n",
       "      <td>6119331691461243</td>\n",
       "      <td>[6119331691461243]</td>\n",
       "      <td>False</td>\n",
       "      <td>Nintendo of America</td>\n",
       "    </tr>\n",
       "    <tr>\n",
       "      <th>0</th>\n",
       "      <td>6215040711913663</td>\n",
       "      <td>None</td>\n",
       "      <td>None</td>\n",
       "      <td>None</td>\n",
       "      <td>None</td>\n",
       "      <td>2023-03-22 13:19:33</td>\n",
       "      <td>1679512773</td>\n",
       "      <td>https://scontent.fsjo3-1.fna.fbcdn.net/v/t39.3...</td>\n",
       "      <td>https://scontent.fsjo3-1.fna.fbcdn.net/v/t39.3...</td>\n",
       "      <td>[https://scontent.fsjo3-1.fna.fbcdn.net/v/t39....</td>\n",
       "      <td>...</td>\n",
       "      <td>None</td>\n",
       "      <td>None</td>\n",
       "      <td>200</td>\n",
       "      <td>None</td>\n",
       "      <td>119240841493711</td>\n",
       "      <td>None</td>\n",
       "      <td>6215040711913663</td>\n",
       "      <td>[6215040711913663]</td>\n",
       "      <td>False</td>\n",
       "      <td>NaN</td>\n",
       "    </tr>\n",
       "    <tr>\n",
       "      <th>0</th>\n",
       "      <td>6208937882523946</td>\n",
       "      <td>#PAXEast is this weekend and My Nintendo is re...</td>\n",
       "      <td>#PAXEast is this weekend and My Nintendo is re...</td>\n",
       "      <td></td>\n",
       "      <td>None</td>\n",
       "      <td>2023-03-20 10:34:54</td>\n",
       "      <td>1679330094</td>\n",
       "      <td>https://scontent.fsjo3-1.fna.fbcdn.net/v/t39.3...</td>\n",
       "      <td>https://scontent.fsjo3-1.fna.fbcdn.net/v/t39.3...</td>\n",
       "      <td>[https://scontent.fsjo3-1.fna.fbcdn.net/v/t39....</td>\n",
       "      <td>...</td>\n",
       "      <td>None</td>\n",
       "      <td>None</td>\n",
       "      <td>313</td>\n",
       "      <td>None</td>\n",
       "      <td>119240841493711</td>\n",
       "      <td>None</td>\n",
       "      <td>6208937882523946</td>\n",
       "      <td>[6208937882523946]</td>\n",
       "      <td>False</td>\n",
       "      <td>NaN</td>\n",
       "    </tr>\n",
       "    <tr>\n",
       "      <th>0</th>\n",
       "      <td>6208437629240638</td>\n",
       "      <td>Celebrate the ground-pounding superstar by sav...</td>\n",
       "      <td>Celebrate the ground-pounding superstar by sav...</td>\n",
       "      <td></td>\n",
       "      <td>None</td>\n",
       "      <td>2023-03-20 07:00:02</td>\n",
       "      <td>1679317202</td>\n",
       "      <td>https://scontent.fsjo3-1.fna.fbcdn.net/v/t39.3...</td>\n",
       "      <td>https://scontent.fsjo3-1.fna.fbcdn.net/v/t39.3...</td>\n",
       "      <td>[https://scontent.fsjo3-1.fna.fbcdn.net/v/t39....</td>\n",
       "      <td>...</td>\n",
       "      <td>None</td>\n",
       "      <td>None</td>\n",
       "      <td>538</td>\n",
       "      <td>None</td>\n",
       "      <td>119240841493711</td>\n",
       "      <td>None</td>\n",
       "      <td>6208437629240638</td>\n",
       "      <td>[6208437629240638]</td>\n",
       "      <td>False</td>\n",
       "      <td>NaN</td>\n",
       "    </tr>\n",
       "  </tbody>\n",
       "</table>\n",
       "<p>5 rows × 51 columns</p>\n",
       "</div>"
      ],
      "text/plain": [
       "            post_id                                               text  \\\n",
       "0  6231271843623883  Get an introduction to Link’s new abilities in...   \n",
       "0  6228413480576386  Join The Legend of #Zelda series producer, Eij...   \n",
       "0  6215040711913663                                               None   \n",
       "0  6208937882523946  #PAXEast is this weekend and My Nintendo is re...   \n",
       "0  6208437629240638  Celebrate the ground-pounding superstar by sav...   \n",
       "\n",
       "                                           post_text shared_text  \\\n",
       "0  Get an introduction to Link’s new abilities in...               \n",
       "0  Join The Legend of #Zelda series producer, Eij...               \n",
       "0                                               None        None   \n",
       "0  #PAXEast is this weekend and My Nintendo is re...               \n",
       "0  Celebrate the ground-pounding superstar by sav...               \n",
       "\n",
       "  original_text                time   timestamp  \\\n",
       "0          None 2023-03-28 08:16:22  1680012982   \n",
       "0          None 2023-03-27 08:26:22  1679927182   \n",
       "0          None 2023-03-22 13:19:33  1679512773   \n",
       "0          None 2023-03-20 10:34:54  1679330094   \n",
       "0          None 2023-03-20 07:00:02  1679317202   \n",
       "\n",
       "                                               image  \\\n",
       "0                                               None   \n",
       "0  https://scontent.fsjo3-1.fna.fbcdn.net/v/t39.3...   \n",
       "0  https://scontent.fsjo3-1.fna.fbcdn.net/v/t39.3...   \n",
       "0  https://scontent.fsjo3-1.fna.fbcdn.net/v/t39.3...   \n",
       "0  https://scontent.fsjo3-1.fna.fbcdn.net/v/t39.3...   \n",
       "\n",
       "                                    image_lowquality  \\\n",
       "0  https://scontent.fsjo3-1.fna.fbcdn.net/v/t15.5...   \n",
       "0  https://scontent.fsjo3-1.fna.fbcdn.net/v/t39.3...   \n",
       "0  https://scontent.fsjo3-1.fna.fbcdn.net/v/t39.3...   \n",
       "0  https://scontent.fsjo3-1.fna.fbcdn.net/v/t39.3...   \n",
       "0  https://scontent.fsjo3-1.fna.fbcdn.net/v/t39.3...   \n",
       "\n",
       "                                              images  ... w3_fb_url reactions  \\\n",
       "0                                                 []  ...      None      None   \n",
       "0  [https://scontent.fsjo3-1.fna.fbcdn.net/v/t39....  ...      None      None   \n",
       "0  [https://scontent.fsjo3-1.fna.fbcdn.net/v/t39....  ...      None      None   \n",
       "0  [https://scontent.fsjo3-1.fna.fbcdn.net/v/t39....  ...      None      None   \n",
       "0  [https://scontent.fsjo3-1.fna.fbcdn.net/v/t39....  ...      None      None   \n",
       "\n",
       "  reaction_count                                               with  \\\n",
       "0           1193  [{'name': 'The Legend of Zelda', 'link': '/Leg...   \n",
       "0           2035  [{'name': 'The Legend of Zelda', 'link': '/Leg...   \n",
       "0            200                                               None   \n",
       "0            313                                               None   \n",
       "0            538                                               None   \n",
       "\n",
       "           page_id sharers          image_id           image_ids was_live  \\\n",
       "0  119240841493711    None              None                  []    False   \n",
       "0  119240841493711    None  6119331691461243  [6119331691461243]    False   \n",
       "0  119240841493711    None  6215040711913663  [6215040711913663]    False   \n",
       "0  119240841493711    None  6208937882523946  [6208937882523946]    False   \n",
       "0  119240841493711    None  6208437629240638  [6208437629240638]    False   \n",
       "\n",
       "                header  \n",
       "0  Nintendo of America  \n",
       "0  Nintendo of America  \n",
       "0                  NaN  \n",
       "0                  NaN  \n",
       "0                  NaN  \n",
       "\n",
       "[5 rows x 51 columns]"
      ]
     },
     "execution_count": 51,
     "metadata": {},
     "output_type": "execute_result"
    }
   ],
   "source": [
    "post_df_full_clean.head()"
   ]
  },
  {
   "cell_type": "code",
   "execution_count": 52,
   "metadata": {
    "gather": {
     "logged": 1664507227871
    },
    "jupyter": {
     "outputs_hidden": false,
     "source_hidden": false
    },
    "nteract": {
     "transient": {
      "deleting": false
     }
    }
   },
   "outputs": [
    {
     "data": {
      "text/html": [
       "<div>\n",
       "<style scoped>\n",
       "    .dataframe tbody tr th:only-of-type {\n",
       "        vertical-align: middle;\n",
       "    }\n",
       "\n",
       "    .dataframe tbody tr th {\n",
       "        vertical-align: top;\n",
       "    }\n",
       "\n",
       "    .dataframe thead th {\n",
       "        text-align: right;\n",
       "    }\n",
       "</style>\n",
       "<table border=\"1\" class=\"dataframe\">\n",
       "  <thead>\n",
       "    <tr style=\"text-align: right;\">\n",
       "      <th></th>\n",
       "      <th>post_id</th>\n",
       "      <th>text</th>\n",
       "      <th>post_text</th>\n",
       "      <th>shared_text</th>\n",
       "      <th>original_text</th>\n",
       "      <th>time</th>\n",
       "      <th>timestamp</th>\n",
       "      <th>image</th>\n",
       "      <th>image_lowquality</th>\n",
       "      <th>images</th>\n",
       "      <th>...</th>\n",
       "      <th>w3_fb_url</th>\n",
       "      <th>reactions</th>\n",
       "      <th>reaction_count</th>\n",
       "      <th>with</th>\n",
       "      <th>page_id</th>\n",
       "      <th>sharers</th>\n",
       "      <th>image_id</th>\n",
       "      <th>image_ids</th>\n",
       "      <th>was_live</th>\n",
       "      <th>header</th>\n",
       "    </tr>\n",
       "  </thead>\n",
       "  <tbody>\n",
       "    <tr>\n",
       "      <th>0</th>\n",
       "      <td>6231271843623883</td>\n",
       "      <td>Get an introduction to Link’s new abilities in...</td>\n",
       "      <td>Get an introduction to Link’s new abilities in...</td>\n",
       "      <td></td>\n",
       "      <td>None</td>\n",
       "      <td>2023-03-28 08:16:22</td>\n",
       "      <td>1680012982</td>\n",
       "      <td>None</td>\n",
       "      <td>https://scontent.fsjo3-1.fna.fbcdn.net/v/t15.5...</td>\n",
       "      <td>[]</td>\n",
       "      <td>...</td>\n",
       "      <td>None</td>\n",
       "      <td>None</td>\n",
       "      <td>1193</td>\n",
       "      <td>[{'name': 'The Legend of Zelda', 'link': '/Leg...</td>\n",
       "      <td>119240841493711</td>\n",
       "      <td>None</td>\n",
       "      <td>None</td>\n",
       "      <td>[]</td>\n",
       "      <td>False</td>\n",
       "      <td>Nintendo of America</td>\n",
       "    </tr>\n",
       "    <tr>\n",
       "      <th>0</th>\n",
       "      <td>6228413480576386</td>\n",
       "      <td>Join The Legend of #Zelda series producer, Eij...</td>\n",
       "      <td>Join The Legend of #Zelda series producer, Eij...</td>\n",
       "      <td></td>\n",
       "      <td>None</td>\n",
       "      <td>2023-03-27 08:26:22</td>\n",
       "      <td>1679927182</td>\n",
       "      <td>https://scontent.fsjo3-1.fna.fbcdn.net/v/t39.3...</td>\n",
       "      <td>https://scontent.fsjo3-1.fna.fbcdn.net/v/t39.3...</td>\n",
       "      <td>[https://scontent.fsjo3-1.fna.fbcdn.net/v/t39....</td>\n",
       "      <td>...</td>\n",
       "      <td>None</td>\n",
       "      <td>None</td>\n",
       "      <td>2035</td>\n",
       "      <td>[{'name': 'The Legend of Zelda', 'link': '/Leg...</td>\n",
       "      <td>119240841493711</td>\n",
       "      <td>None</td>\n",
       "      <td>6119331691461243</td>\n",
       "      <td>[6119331691461243]</td>\n",
       "      <td>False</td>\n",
       "      <td>Nintendo of America</td>\n",
       "    </tr>\n",
       "    <tr>\n",
       "      <th>0</th>\n",
       "      <td>6215040711913663</td>\n",
       "      <td>None</td>\n",
       "      <td>None</td>\n",
       "      <td>None</td>\n",
       "      <td>None</td>\n",
       "      <td>2023-03-22 13:19:33</td>\n",
       "      <td>1679512773</td>\n",
       "      <td>https://scontent.fsjo3-1.fna.fbcdn.net/v/t39.3...</td>\n",
       "      <td>https://scontent.fsjo3-1.fna.fbcdn.net/v/t39.3...</td>\n",
       "      <td>[https://scontent.fsjo3-1.fna.fbcdn.net/v/t39....</td>\n",
       "      <td>...</td>\n",
       "      <td>None</td>\n",
       "      <td>None</td>\n",
       "      <td>200</td>\n",
       "      <td>None</td>\n",
       "      <td>119240841493711</td>\n",
       "      <td>None</td>\n",
       "      <td>6215040711913663</td>\n",
       "      <td>[6215040711913663]</td>\n",
       "      <td>False</td>\n",
       "      <td>NaN</td>\n",
       "    </tr>\n",
       "    <tr>\n",
       "      <th>0</th>\n",
       "      <td>6208937882523946</td>\n",
       "      <td>#PAXEast is this weekend and My Nintendo is re...</td>\n",
       "      <td>#PAXEast is this weekend and My Nintendo is re...</td>\n",
       "      <td></td>\n",
       "      <td>None</td>\n",
       "      <td>2023-03-20 10:34:54</td>\n",
       "      <td>1679330094</td>\n",
       "      <td>https://scontent.fsjo3-1.fna.fbcdn.net/v/t39.3...</td>\n",
       "      <td>https://scontent.fsjo3-1.fna.fbcdn.net/v/t39.3...</td>\n",
       "      <td>[https://scontent.fsjo3-1.fna.fbcdn.net/v/t39....</td>\n",
       "      <td>...</td>\n",
       "      <td>None</td>\n",
       "      <td>None</td>\n",
       "      <td>313</td>\n",
       "      <td>None</td>\n",
       "      <td>119240841493711</td>\n",
       "      <td>None</td>\n",
       "      <td>6208937882523946</td>\n",
       "      <td>[6208937882523946]</td>\n",
       "      <td>False</td>\n",
       "      <td>NaN</td>\n",
       "    </tr>\n",
       "    <tr>\n",
       "      <th>0</th>\n",
       "      <td>6208437629240638</td>\n",
       "      <td>Celebrate the ground-pounding superstar by sav...</td>\n",
       "      <td>Celebrate the ground-pounding superstar by sav...</td>\n",
       "      <td></td>\n",
       "      <td>None</td>\n",
       "      <td>2023-03-20 07:00:02</td>\n",
       "      <td>1679317202</td>\n",
       "      <td>https://scontent.fsjo3-1.fna.fbcdn.net/v/t39.3...</td>\n",
       "      <td>https://scontent.fsjo3-1.fna.fbcdn.net/v/t39.3...</td>\n",
       "      <td>[https://scontent.fsjo3-1.fna.fbcdn.net/v/t39....</td>\n",
       "      <td>...</td>\n",
       "      <td>None</td>\n",
       "      <td>None</td>\n",
       "      <td>538</td>\n",
       "      <td>None</td>\n",
       "      <td>119240841493711</td>\n",
       "      <td>None</td>\n",
       "      <td>6208437629240638</td>\n",
       "      <td>[6208437629240638]</td>\n",
       "      <td>False</td>\n",
       "      <td>NaN</td>\n",
       "    </tr>\n",
       "  </tbody>\n",
       "</table>\n",
       "<p>5 rows × 51 columns</p>\n",
       "</div>"
      ],
      "text/plain": [
       "            post_id                                               text  \\\n",
       "0  6231271843623883  Get an introduction to Link’s new abilities in...   \n",
       "0  6228413480576386  Join The Legend of #Zelda series producer, Eij...   \n",
       "0  6215040711913663                                               None   \n",
       "0  6208937882523946  #PAXEast is this weekend and My Nintendo is re...   \n",
       "0  6208437629240638  Celebrate the ground-pounding superstar by sav...   \n",
       "\n",
       "                                           post_text shared_text  \\\n",
       "0  Get an introduction to Link’s new abilities in...               \n",
       "0  Join The Legend of #Zelda series producer, Eij...               \n",
       "0                                               None        None   \n",
       "0  #PAXEast is this weekend and My Nintendo is re...               \n",
       "0  Celebrate the ground-pounding superstar by sav...               \n",
       "\n",
       "  original_text                time   timestamp  \\\n",
       "0          None 2023-03-28 08:16:22  1680012982   \n",
       "0          None 2023-03-27 08:26:22  1679927182   \n",
       "0          None 2023-03-22 13:19:33  1679512773   \n",
       "0          None 2023-03-20 10:34:54  1679330094   \n",
       "0          None 2023-03-20 07:00:02  1679317202   \n",
       "\n",
       "                                               image  \\\n",
       "0                                               None   \n",
       "0  https://scontent.fsjo3-1.fna.fbcdn.net/v/t39.3...   \n",
       "0  https://scontent.fsjo3-1.fna.fbcdn.net/v/t39.3...   \n",
       "0  https://scontent.fsjo3-1.fna.fbcdn.net/v/t39.3...   \n",
       "0  https://scontent.fsjo3-1.fna.fbcdn.net/v/t39.3...   \n",
       "\n",
       "                                    image_lowquality  \\\n",
       "0  https://scontent.fsjo3-1.fna.fbcdn.net/v/t15.5...   \n",
       "0  https://scontent.fsjo3-1.fna.fbcdn.net/v/t39.3...   \n",
       "0  https://scontent.fsjo3-1.fna.fbcdn.net/v/t39.3...   \n",
       "0  https://scontent.fsjo3-1.fna.fbcdn.net/v/t39.3...   \n",
       "0  https://scontent.fsjo3-1.fna.fbcdn.net/v/t39.3...   \n",
       "\n",
       "                                              images  ... w3_fb_url reactions  \\\n",
       "0                                                 []  ...      None      None   \n",
       "0  [https://scontent.fsjo3-1.fna.fbcdn.net/v/t39....  ...      None      None   \n",
       "0  [https://scontent.fsjo3-1.fna.fbcdn.net/v/t39....  ...      None      None   \n",
       "0  [https://scontent.fsjo3-1.fna.fbcdn.net/v/t39....  ...      None      None   \n",
       "0  [https://scontent.fsjo3-1.fna.fbcdn.net/v/t39....  ...      None      None   \n",
       "\n",
       "  reaction_count                                               with  \\\n",
       "0           1193  [{'name': 'The Legend of Zelda', 'link': '/Leg...   \n",
       "0           2035  [{'name': 'The Legend of Zelda', 'link': '/Leg...   \n",
       "0            200                                               None   \n",
       "0            313                                               None   \n",
       "0            538                                               None   \n",
       "\n",
       "           page_id sharers          image_id           image_ids was_live  \\\n",
       "0  119240841493711    None              None                  []    False   \n",
       "0  119240841493711    None  6119331691461243  [6119331691461243]    False   \n",
       "0  119240841493711    None  6215040711913663  [6215040711913663]    False   \n",
       "0  119240841493711    None  6208937882523946  [6208937882523946]    False   \n",
       "0  119240841493711    None  6208437629240638  [6208437629240638]    False   \n",
       "\n",
       "                header  \n",
       "0  Nintendo of America  \n",
       "0  Nintendo of America  \n",
       "0                  NaN  \n",
       "0                  NaN  \n",
       "0                  NaN  \n",
       "\n",
       "[5 rows x 51 columns]"
      ]
     },
     "execution_count": 52,
     "metadata": {},
     "output_type": "execute_result"
    }
   ],
   "source": [
    "# Display header of dataframe\n",
    "post_df_full.head()"
   ]
  },
  {
   "cell_type": "code",
   "execution_count": 53,
   "metadata": {
    "gather": {
     "logged": 1664507234730
    },
    "jupyter": {
     "outputs_hidden": false,
     "source_hidden": false
    },
    "nteract": {
     "transient": {
      "deleting": false
     }
    }
   },
   "outputs": [],
   "source": [
    "# Guarde el marco de datos en el archivo csv\n",
    "post_df_full.to_csv(r'fb_scrapped_data.csv', index = False)"
   ]
  },
  {
   "cell_type": "code",
   "execution_count": 54,
   "metadata": {
    "gather": {
     "logged": 1664507238095
    },
    "jupyter": {
     "outputs_hidden": false,
     "source_hidden": false
    },
    "nteract": {
     "transient": {
      "deleting": false
     }
    }
   },
   "outputs": [
    {
     "data": {
      "image/png": "[encoded data removed]",
      "text/plain": [
       "<Figure size 2000x1000 with 1 Axes>"
      ]
     },
     "metadata": {},
     "output_type": "display_data"
    }
   ],
   "source": [
    "# Realice un gráfico de líneas básico para visualizar la fecha y hora de la publicación frente a los Me gusta\n",
    "fig, ax = plt.subplots(figsize=(20, 10))\n",
    "ax.plot(post_df_full['time'], post_df_full['likes'], marker=\"o\")\n",
    "from matplotlib.dates import DateFormatter\n",
    "ax.xaxis.set_major_formatter(DateFormatter('%d-%m-%y %H:%M'))"
   ]
  },
  {
   "cell_type": "code",
   "execution_count": 55,
   "metadata": {
    "gather": {
     "logged": 1664505969010
    },
    "jupyter": {
     "outputs_hidden": false,
     "source_hidden": false
    },
    "nteract": {
     "transient": {
      "deleting": false
     }
    }
   },
   "outputs": [
    {
     "data": {
      "text/plain": [
       "0    Get an introduction to Link’s new abilities in...\n",
       "0    Join The Legend of #Zelda series producer, Eij...\n",
       "0                                                 None\n",
       "0    #PAXEast is this weekend and My Nintendo is re...\n",
       "0    Celebrate the ground-pounding superstar by sav...\n",
       "0    NintendoVS is bringing the competition to Bost...\n",
       "0    Make every day a #MAR10Day with a #NintendoSwi...\n",
       "0    Celebrate the Mushroom Kingdom hero by saving ...\n",
       "0    Happy #MAR10Day everyone! How will you be cele...\n",
       "0    Watch the latest Nintendo Direct presentation ...\n",
       "0    PRESS START. The final #SuperMarioMovie traile...\n",
       "0    Make every day a #MAR10Day with a Nintendo Swi...\n",
       "0    The Hidden Treasure of Area Zero for Pokémon S...\n",
       "0    Join us at 2:00 p.m. PT on 3/9 for the world p...\n",
       "0    It's SUPER NINTENDO WORLD™ opening day at Univ...\n",
       "0                                                     \n",
       "0        Everyone needs a big hug, especially Kirby! 💗\n",
       "0    For super service, visit SMBPlumbing.com.\\n#Su...\n",
       "0    MIÉ, 15 DE FEB.\\nSUPER NINTENDO WORLD™ Press E...\n",
       "0    Which games from the latest Nintendo Direct we...\n",
       "0    Enter the My Nintendo Metroid Prime Remastered...\n",
       "0    Experience Bayonetta's origins as a young witc...\n",
       "0    The original Metroid Prime has been remastered...\n",
       "0    Game Boy games arrive to Nintendo Switch Onlin...\n",
       "0    Calling all strategy fans! Advance Wars 1+2: R...\n",
       "0    Chart a mysterious planet with curious plantli...\n",
       "0    Tune in at 2 p.m. PST tomorrow, Feb. 8, for a ...\n",
       "0    Check out the official poster for The Super Ma...\n",
       "0    Happy New Year from Nintendo and the Mushroom ...\n",
       "0    Happy Holidays from your friends at Nintendo! ...\n",
       "0    Attention EarthBound fans! My Nintendo has two...\n",
       "0    Thanks for helping us spread cheer all year lo...\n",
       "0    The festive season has arrived in Dream Land a...\n",
       "0    Super Smash Bros. amiibo for DLC fighters Kazu...\n",
       "0    Get ready for a new world of adventures when S...\n",
       "0    Save up to 70% on select Nintendo Switch digit...\n",
       "Name: text, dtype: object"
      ]
     },
     "execution_count": 55,
     "metadata": {},
     "output_type": "execute_result"
    }
   ],
   "source": [
    "post_df_full['text']"
   ]
  },
  {
   "cell_type": "code",
   "execution_count": null,
   "metadata": {},
   "outputs": [],
   "source": []
  }
 ],
 "metadata": {
  "kernel_info": {
   "name": "python38-azureml"
  },
  "kernelspec": {
   "display_name": "Python 3",
   "language": "python",
   "name": "python3"
  },
  "language_info": {
   "codemirror_mode": {
    "name": "ipython",
    "version": 3
   },
   "file_extension": ".py",
   "mimetype": "text/x-python",
   "name": "python",
   "nbconvert_exporter": "python",
   "pygments_lexer": "ipython3",
   "version": "3.9.13"
  },
  "microsoft": {
   "host": {
    "AzureML": {
     "notebookHasBeenCompleted": true
    }
   }
  },
  "nteract": {
   "version": "nteract-front-end@1.0.0"
  }
 },
 "nbformat": 4,
 "nbformat_minor": 2
}
